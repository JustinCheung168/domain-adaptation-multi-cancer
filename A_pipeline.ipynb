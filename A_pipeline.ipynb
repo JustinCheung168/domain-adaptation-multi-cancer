{
 "cells": [
  {
   "cell_type": "code",
   "execution_count": 1,
   "id": "b2bec9fc",
   "metadata": {},
   "outputs": [],
   "source": [
    "import torch\n",
    "from transformers import ResNetConfig\n",
    "from torch.utils.data import Dataset\n",
    "from sklearn.model_selection import train_test_split\n",
    "import transformers\n",
    "from torchvision import transforms\n",
    "from resnet import ResNetForMultiLabel\n",
    "from resnet import OrganAMNISTDataset, compute_metrics, train_model, evaluate_model\n",
    "import random\n",
    "import numpy as np\n",
    "import os "
   ]
  },
  {
   "cell_type": "code",
   "execution_count": 2,
   "id": "21076a7d",
   "metadata": {},
   "outputs": [
    {
     "data": {
      "text/plain": [
       "<torch._C.Generator at 0x2d51b863530>"
      ]
     },
     "execution_count": 2,
     "metadata": {},
     "output_type": "execute_result"
    }
   ],
   "source": [
    "#SET SEEDS\n",
    "random.seed(42)\n",
    "np.random.seed(42)\n",
    "torch.manual_seed(42)"
   ]
  },
  {
   "cell_type": "markdown",
   "id": "ad7924dd",
   "metadata": {},
   "source": [
    "#### Import NPZ by concatenating"
   ]
  },
  {
   "cell_type": "code",
   "execution_count": 3,
   "id": "880ff3b3",
   "metadata": {},
   "outputs": [],
   "source": [
    "import os\n",
    "\n",
    "def import_data(directory, save_path=None, save=False):\n",
    "\n",
    "    data = []\n",
    "    for filename in os.listdir(directory):\n",
    "        if filename.endswith('.npz'):\n",
    "            file_path = os.path.join(directory, filename)\n",
    "            loaded_data = np.load(file_path)\n",
    "            data.append(loaded_data)\n",
    "\n",
    "    # concatenate the data from all files\n",
    "    all_data = {}\n",
    "    for key in data[0].keys():\n",
    "        all_data[key] = np.concatenate([d[key] for d in data], axis=0)\n",
    "\n",
    "    # check the shape of the concatenated data\n",
    "    for key, value in all_data.items():\n",
    "        print(f\"{key}: {value.shape}\")  \n",
    "\n",
    "    if save:\n",
    "        if save_path is None:\n",
    "            save_path = f'datasets/{directory}_concatenated_data.npz'\n",
    "        np.savez(save_path, **all_data)\n",
    "        print(f\"Data saved to {save_path}\")\n",
    "\n",
    "    return all_data"
   ]
  },
  {
   "cell_type": "markdown",
   "id": "38629835",
   "metadata": {},
   "source": [
    "#### After combining the uniform noise + rotation + original, add in CT "
   ]
  },
  {
   "cell_type": "code",
   "execution_count": null,
   "id": "4b6762f2",
   "metadata": {},
   "outputs": [],
   "source": [
    "#quick method to add new CT information into the full concat file. \n",
    "def combine_npz(npz_data, CT_directory, save_name, file_prefix='train'):\n",
    "\n",
    "    labels = ['label', 'Ring_Artifact_v1']\n",
    "    data = []\n",
    "    for filename in os.listdir(CT_directory):\n",
    "        if filename.startswith(file_prefix):\n",
    "                file_path = os.path.join(CT_directory, filename)\n",
    "                loaded_data = np.load(file_path)\n",
    "                data.append(loaded_data)\n",
    "    all_data = {}\n",
    "    for key in labels:\n",
    "        all_data[key] = np.concatenate([d[key] for d in data], axis=0)\n",
    "\n",
    "    for key, value in all_data.items():\n",
    "        print(f\"{key}: {value.shape}\")  \n",
    "    \n",
    "    npz_data['Ring_Artifact_v1'] = all_data['Ring_Artifact_v1']\n",
    "    \n",
    "    for key, value in npz_data.items():\n",
    "        print(f\"{key}: {value.shape}\")  \n",
    "        \n",
    "    np.savez(save_name, **npz_data)\n",
    "    print(f\"Data saved to {save_name}\")\n",
    "    \n",
    "    \n",
    "directory = 'Distorted_OrganAMNIST/RingArtifactv1_npz'\n",
    "training_data = import_data('Distorted_OrganAMNIST/UniformNoise_Rotate90_npz')\n",
    "# val_data = import_data('Distorted_OrganAMNIST/UniformNoise_Rotate90_val_dataset')\n",
    "# test_data = import_data('Distorted_OrganAMNIST/UniformNoise_Rotate90_test_dataset')\n",
    "\n",
    "combine_npz(training_data, directory, 'training_concatenated_dataset_full.npz', 'train')\n",
    "    \n",
    "    \n"
   ]
  },
  {
   "cell_type": "markdown",
   "id": "708a6047",
   "metadata": {},
   "source": [
    "### Image normalizer "
   ]
  },
  {
   "cell_type": "code",
   "execution_count": 5,
   "id": "ed459e34",
   "metadata": {},
   "outputs": [],
   "source": [
    "def normalize_image(image, mean=0.5, std=0.5):\n",
    "    \"\"\"\n",
    "    Normalize an image tensor to have a mean and standard deviation.\n",
    "    \"\"\"\n",
    "    return (image - mean) / std\n",
    "\n",
    "def normalize_images(images, mean=0.5, std=0.5):\n",
    "    \"\"\"\n",
    "    Normalize a list of images.\n",
    "    \"\"\"\n",
    "    return [normalize_image(image, mean, std) for image in images]"
   ]
  },
  {
   "cell_type": "markdown",
   "id": "8cb4c6db",
   "metadata": {},
   "source": [
    "### Dataset Loader"
   ]
  },
  {
   "cell_type": "code",
   "execution_count": 6,
   "id": "f44d030c",
   "metadata": {},
   "outputs": [],
   "source": [
    "#Modified CustomImageDataset Loader\n",
    "\n",
    "class ModifiedCustomImageDataset(Dataset):\n",
    "    def __init__(self, images, labels1,  transform=None):\n",
    "        self.images = images \n",
    "        self.labels1 = labels1\n",
    "\n",
    "        if transform is None:\n",
    "            self.transform = transforms.Compose([\n",
    "                transforms.ToTensor(),\n",
    "                transforms.Lambda(lambda x: x.repeat(3, 1, 1))  # Grayscale to 3-channel\n",
    "            ])\n",
    "        else:\n",
    "            self.transform = transform\n",
    "\n",
    "    def __len__(self):\n",
    "        return len(self.images)\n",
    "\n",
    "    def __getitem__(self, idx):\n",
    "        img = self.images[idx].astype(np.float32)\n",
    "        label1 = int(self.labels1[idx])\n",
    "\n",
    "\n",
    "        if self.transform:\n",
    "            img = self.transform(img)\n",
    "\n",
    "        return {\n",
    "            \"pixel_values\": img,\n",
    "            \"labels\": int(label1) if torch.is_tensor(label1) else label1,\n",
    "        }\n",
    "        \n"
   ]
  },
  {
   "cell_type": "markdown",
   "id": "55df27b7",
   "metadata": {},
   "source": [
    "#### Preprocessing functions for single distortions. Use C_pipeline for loading multiple distortions per set"
   ]
  },
  {
   "cell_type": "code",
   "execution_count": 7,
   "id": "45c8c1f8",
   "metadata": {},
   "outputs": [],
   "source": [
    "#Modified\n",
    "\n",
    "def preprocess_data(data, key='original'):\n",
    "    \"\"\"\n",
    "    Modified from sam's implementation to preprocess 1 set of images. \n",
    "    \n",
    "    key : str (distortion name)\n",
    "    \"\"\"\n",
    "    keys = data.files \n",
    "    print(f'\\nGenerating {key} set')\n",
    "    \n",
    "    images = data[key]\n",
    "    labels = data['label']\n",
    "    \n",
    "    normalized_images = []\n",
    "    for image in images:\n",
    "        normalized_images.append(normalize_images(image))\n",
    "        \n",
    "    labels = np.array(labels)\n",
    "    normalized_images = np.array(normalized_images)\n",
    "    \n",
    "    \n",
    "    print(f\"Labels shape: {labels.shape}\")\n",
    "    print(f\"Images shape: {normalized_images.shape}\")\n",
    "\n",
    "    dataset = ModifiedCustomImageDataset(images=normalized_images, labels1=labels)\n",
    "\n",
    "    return dataset\n"
   ]
  },
  {
   "cell_type": "markdown",
   "id": "96678fde",
   "metadata": {},
   "source": [
    "#### Preprocess data into distinct sets"
   ]
  },
  {
   "cell_type": "code",
   "execution_count": 8,
   "id": "e3cfb27b",
   "metadata": {},
   "outputs": [
    {
     "name": "stdout",
     "output_type": "stream",
     "text": [
      "['original', 'Uniform_Noise', 'Rotate_90deg', 'Ring_Artifact_v1']\n",
      "\n",
      "Generating Rotate_90deg set\n",
      "Labels shape: (6491, 1)\n",
      "Images shape: (6491, 224, 224)\n",
      "\n",
      "Generating original set\n",
      "Labels shape: (6491, 1)\n",
      "Images shape: (6491, 224, 224)\n",
      "\n",
      "Generating Uniform_Noise set\n",
      "Labels shape: (6491, 1)\n",
      "Images shape: (6491, 224, 224)\n",
      "\n",
      "Generating Ring_Artifact_v1 set\n",
      "Labels shape: (6491, 1)\n",
      "Images shape: (6491, 224, 224)\n"
     ]
    }
   ],
   "source": [
    "val_set_loaded = np.load('val_concatenated_dataset_full.npz')\n",
    "key_list = [key for key in val_set_loaded.files if key != 'label']\n",
    "print(key_list)\n",
    "\n",
    "val_rotate_set = preprocess_data(val_set_loaded, 'Rotate_90deg')\n",
    "val_original_set = preprocess_data(val_set_loaded, 'original')\n",
    "val_noise_set = preprocess_data(val_set_loaded, 'Uniform_Noise')\n",
    "val_ct_set = preprocess_data(val_set_loaded, 'Ring_Artifact_v1')\n"
   ]
  },
  {
   "cell_type": "code",
   "execution_count": null,
   "id": "68f9185a",
   "metadata": {},
   "outputs": [],
   "source": [
    "train_set_loaded = np.load('training_concatenated_dataset_full.npz')\n",
    "\n",
    "train_rotate_set = preprocess_data(train_set_loaded, 'Rotate_90deg')\n",
    "train_original_set = preprocess_data(train_set_loaded, 'original')\n",
    "train_noise_set = preprocess_data(train_set_loaded, 'Uniform_Noise')\n",
    "train_ct_set = preprocess_data(train_set_loaded, 'Ring_Artifact_v1')\n"
   ]
  },
  {
   "cell_type": "markdown",
   "id": "d41e8ed8",
   "metadata": {},
   "source": [
    "## Train Model"
   ]
  },
  {
   "cell_type": "code",
   "execution_count": null,
   "id": "beca17cb",
   "metadata": {},
   "outputs": [],
   "source": [
    "if torch.cuda.is_available():\n",
    "    print(\"CUDA is available!\")\n",
    "    print(f\"Using GPU: {torch.cuda.get_device_name(0)}\")\n",
    "    device = torch.device(\"cuda\")\n",
    "else:\n",
    "    print(\"CUDA is not available. Using CPU.\")\n",
    "    device = torch.device(\"cpu\")"
   ]
  },
  {
   "cell_type": "markdown",
   "id": "6afe5852",
   "metadata": {},
   "source": [
    "#### A Original"
   ]
  },
  {
   "cell_type": "code",
   "execution_count": null,
   "id": "888adf94",
   "metadata": {},
   "outputs": [],
   "source": [
    "output_path = os.path.join('A1_Original', 'results')\n",
    "\n",
    "\n",
    "config = ResNetConfig()\n",
    "model = ResNetForMultiLabel(config)\n",
    "\n",
    "print(\"Starting training\")\n",
    "trainer = train_model(\n",
    "    train_dataset=train_original_set,\n",
    "    eval_dataset=val_original_set,\n",
    "    model=model,\n",
    "    output_dir=output_path,  # Checkpoints will go here\n",
    "    num_epochs=100,\n",
    "    batch_size=32\n",
    ")\n",
    "\n",
    "print(\"Saving final model\")\n",
    "trainer.save_model(output_path)"
   ]
  },
  {
   "cell_type": "markdown",
   "id": "3a1755ef",
   "metadata": {},
   "source": [
    "#### A Uniform"
   ]
  },
  {
   "cell_type": "code",
   "execution_count": null,
   "id": "3fd87cb1",
   "metadata": {},
   "outputs": [],
   "source": [
    "output_path = os.path.join('A4_UNI', 'results')\n",
    "\n",
    "\n",
    "config = ResNetConfig()\n",
    "model = ResNetForMultiLabel(config)\n",
    "\n",
    "print(\"Starting training\")\n",
    "trainer = train_model(\n",
    "    train_dataset=train_noise_set,\n",
    "    eval_dataset=val_noise_set,\n",
    "    model=model,\n",
    "    output_dir=output_path,  # Checkpoints will go here\n",
    "    num_epochs=100,\n",
    "    batch_size=32\n",
    ")\n",
    "\n",
    "print(\"Saving final model\")\n",
    "trainer.save_model(output_path)"
   ]
  },
  {
   "cell_type": "markdown",
   "id": "8ec54378",
   "metadata": {},
   "source": [
    "#### A Ring"
   ]
  },
  {
   "cell_type": "code",
   "execution_count": null,
   "id": "a84e9ae9",
   "metadata": {},
   "outputs": [],
   "source": [
    "output_path = os.path.join('A2_CT', 'results')\n",
    "\n",
    "\n",
    "config = ResNetConfig()\n",
    "model = ResNetForMultiLabel(config)\n",
    "\n",
    "print(\"Starting training\")\n",
    "trainer = train_model(\n",
    "    train_dataset=train_ct_set,\n",
    "    eval_dataset=val_ct_set,\n",
    "    model=model,\n",
    "    output_dir=output_path,  # Checkpoints will go here\n",
    "    num_epochs=100,\n",
    "    batch_size=32\n",
    ")\n",
    "\n",
    "print(\"Saving final model\")\n",
    "trainer.save_model(output_path)"
   ]
  },
  {
   "cell_type": "markdown",
   "id": "86ad6cbf",
   "metadata": {},
   "source": [
    "#### A Rotation90"
   ]
  },
  {
   "cell_type": "code",
   "execution_count": null,
   "id": "20328f28",
   "metadata": {},
   "outputs": [],
   "source": [
    "output_path = os.path.join('A3_ROT', 'results')\n",
    "\n",
    "\n",
    "config = ResNetConfig()\n",
    "model = ResNetForMultiLabel(config)\n",
    "\n",
    "print(\"Starting training\")\n",
    "trainer = train_model(\n",
    "    train_dataset=train_rotate_set,\n",
    "    eval_dataset=val_rotate_set,\n",
    "    model=model,\n",
    "    output_dir=output_path,  # Checkpoints will go here\n",
    "    num_epochs=100,\n",
    "    batch_size=32\n",
    ")\n",
    "\n",
    "print(\"Saving final model\")\n",
    "trainer.save_model(output_path)"
   ]
  },
  {
   "cell_type": "markdown",
   "id": "9c196ff2",
   "metadata": {},
   "source": [
    "### Evaluate other val sets"
   ]
  },
  {
   "cell_type": "markdown",
   "id": "2b08122e",
   "metadata": {},
   "source": [
    "#### C10 Model"
   ]
  },
  {
   "cell_type": "code",
   "execution_count": null,
   "id": "73403472",
   "metadata": {},
   "outputs": [],
   "source": [
    "import pandas as pd\n",
    "\n",
    "\n",
    "#Load in checkpoints.\n",
    "\n",
    "checkpoint_directory= 'C10_model/results/'\n",
    "model_name = 'C10'\n",
    "\n",
    "#Change variables above ^^^^^\n",
    "\n",
    "checkpoints = sorted(\n",
    "    os.listdir(checkpoint_directory),\n",
    "    key=lambda x: int(x.split('-')[-1]) if x.startswith('checkpoint-') else float('inf')\n",
    ")\n",
    "orig, uni, rot, ring = [], [], [], []\n",
    "val_sets = [\n",
    "    (\"original\", val_original_set, orig),\n",
    "    (\"Uniform_Noise\", val_noise_set, uni),\n",
    "    (\"Rotate_90deg\", val_rotate_set, rot),\n",
    "    (\"Ring_Artifact_v1\", val_ct_set, ring)\n",
    "]\n",
    "\n",
    "\n",
    "val_sets = [v for v in val_sets if v[0] != \"original\"]\n",
    "\n",
    "#Change which val sets to use ^^^^\n",
    "\n",
    "\n",
    "\n",
    "count = 1\n",
    "for checkpoint in checkpoints:\n",
    "    load_checkpoint = os.path.join(checkpoint_directory, checkpoint)\n",
    "    # Load config and model\n",
    "    config = ResNetConfig.from_pretrained(load_checkpoint)\n",
    "    model = ResNetForMultiLabel.from_pretrained(load_checkpoint, config=config)\n",
    "\n",
    "    for val in val_sets:\n",
    "        val_data = val[1]\n",
    "        val_list = val[2]\n",
    "        metrics = evaluate_model(eval_dataset=val_data, model=model, output_dir=\"val_results\", num_epochs=0, batch_size=32)\n",
    "        metrics[\"checkpoint\"] = checkpoint\n",
    "        # print(metrics)\n",
    "        val_list.append(metrics)\n",
    "        df = pd.DataFrame(val_list)\n",
    "        # print(df)\n",
    "        df.to_csv(f\"{model_name}_val_{val[0]}.csv\", index=False)\n",
    "    count += 1\n",
    "    if count > 100:\n",
    "        #Sometimes non chkpt things can be found\n",
    "        break\n",
    "        \n",
    "\n"
   ]
  },
  {
   "cell_type": "markdown",
   "id": "a9230fd3",
   "metadata": {},
   "source": [
    "#### C11 Model (orig, ct, uni)"
   ]
  },
  {
   "cell_type": "code",
   "execution_count": null,
   "id": "a026005f",
   "metadata": {},
   "outputs": [],
   "source": [
    "import pandas as pd\n",
    "\n",
    "\n",
    "#Load in checkpoints.\n",
    "\n",
    "checkpoint_directory= 'C11_model/results/'\n",
    "model_name = 'C11'\n",
    "\n",
    "#Change variables above ^^^^^\n",
    "\n",
    "checkpoints = sorted(\n",
    "    os.listdir(checkpoint_directory),\n",
    "    key=lambda x: int(x.split('-')[-1]) if x.startswith('checkpoint-') else float('inf')\n",
    ")\n",
    "orig, uni, rot, ring = [], [], [], []\n",
    "val_sets = [\n",
    "    (\"original\", val_original_set, orig),\n",
    "    (\"Uniform_Noise\", val_noise_set, uni),\n",
    "    (\"Rotate_90deg\", val_rotate_set, rot),\n",
    "    (\"Ring_Artifact_v1\", val_ct_set, ring)\n",
    "]\n",
    "\n",
    "\n",
    "val_sets = [v for v in val_sets if v[0] != \"original\"]\n",
    "\n",
    "#Change which val sets to use ^^^^\n",
    "\n",
    "\n",
    "\n",
    "count = 1\n",
    "for checkpoint in checkpoints:\n",
    "    load_checkpoint = os.path.join(checkpoint_directory, checkpoint)\n",
    "    # Load config and model\n",
    "    config = ResNetConfig.from_pretrained(load_checkpoint)\n",
    "    model = ResNetForMultiLabel.from_pretrained(load_checkpoint, config=config)\n",
    "\n",
    "    for val in val_sets:\n",
    "        val_data = val[1]\n",
    "        val_list = val[2]\n",
    "        metrics = evaluate_model(eval_dataset=val_data, model=model, output_dir=\"val_results\", num_epochs=0, batch_size=32)\n",
    "        metrics[\"checkpoint\"] = checkpoint\n",
    "        # print(metrics)\n",
    "        val_list.append(metrics)\n",
    "        df = pd.DataFrame(val_list)\n",
    "        # print(df)\n",
    "        df.to_csv(f\"{model_name}_val_{val[0]}.csv\", index=False)\n",
    "    count += 1\n",
    "    if count > 100:\n",
    "        #Sometimes non chkpt things can be found\n",
    "        break\n",
    "        \n",
    "\n"
   ]
  },
  {
   "cell_type": "markdown",
   "id": "63f06cac",
   "metadata": {},
   "source": [
    "#### A rotate 90 val test"
   ]
  },
  {
   "cell_type": "code",
   "execution_count": null,
   "id": "57557149",
   "metadata": {},
   "outputs": [],
   "source": [
    "import pandas as pd\n",
    "\n",
    "\n",
    "#Load in checkpoints.\n",
    "\n",
    "checkpoint_directory= 'A3_ROT/results/'\n",
    "model_name = 'a_rotate_90'\n",
    "\n",
    "#Change variables above ^^^^^\n",
    "\n",
    "checkpoints = sorted(\n",
    "    os.listdir(checkpoint_directory),\n",
    "    key=lambda x: int(x.split('-')[-1]) if x.startswith('checkpoint-') else float('inf')\n",
    ")\n",
    "orig, uni, rot, ring = [], [], [], []\n",
    "val_sets = [\n",
    "    (\"original\", val_original_set, orig),\n",
    "    (\"Uniform_Noise\", val_noise_set, uni),\n",
    "    (\"Rotate_90deg\", val_rotate_set, rot),\n",
    "    (\"Ring_Artifact_v1\", val_ct_set, ring)\n",
    "]\n",
    "\n",
    "\n",
    "val_sets = [v for v in val_sets if v[0] != \"Rotate_90deg\"]\n",
    "\n",
    "#Change which val sets to use ^^^^\n",
    "\n",
    "\n",
    "\n",
    "count = 1\n",
    "for checkpoint in checkpoints:\n",
    "    load_checkpoint = os.path.join(checkpoint_directory, checkpoint)\n",
    "    # Load config and model\n",
    "    config = ResNetConfig.from_pretrained(load_checkpoint)\n",
    "    model = ResNetForMultiLabel.from_pretrained(load_checkpoint, config=config)\n",
    "\n",
    "    for val in val_sets:\n",
    "        val_data = val[1]\n",
    "        val_list = val[2]\n",
    "        metrics = evaluate_model(eval_dataset=val_data, model=model, output_dir=\"val_results\", num_epochs=0, batch_size=32)\n",
    "        metrics[\"checkpoint\"] = checkpoint\n",
    "        # print(metrics)\n",
    "        val_list.append(metrics)\n",
    "        df = pd.DataFrame(val_list)\n",
    "        # print(df)\n",
    "        df.to_csv(f\"{model_name}_val_{val[0]}.csv\", index=False)\n",
    "    count += 1\n",
    "    if count > 100:\n",
    "        #Sometimes non chkpt things can be found\n",
    "        break\n",
    "        \n",
    "\n"
   ]
  },
  {
   "cell_type": "markdown",
   "id": "8b6bd439",
   "metadata": {},
   "source": [
    "#### A Uniform val test"
   ]
  },
  {
   "cell_type": "code",
   "execution_count": null,
   "id": "0d85b1cf",
   "metadata": {},
   "outputs": [],
   "source": [
    "import pandas as pd\n",
    "\n",
    "\n",
    "#Load in checkpoints.\n",
    "\n",
    "checkpoint_directory= 'A4_UNI/results/'\n",
    "model_name = 'a_uniform_noise'\n",
    "\n",
    "#Change variables above ^^^^^\n",
    "\n",
    "checkpoints = sorted(\n",
    "    os.listdir(checkpoint_directory),\n",
    "    key=lambda x: int(x.split('-')[-1]) if x.startswith('checkpoint-') else float('inf')\n",
    ")\n",
    "orig, uni, rot, ring = [], [], [], []\n",
    "val_sets = [\n",
    "    (\"original\", val_original_set, orig),\n",
    "    (\"Uniform_Noise\", val_noise_set, uni),\n",
    "    (\"Rotate_90deg\", val_rotate_set, rot),\n",
    "    (\"Ring_Artifact_v1\", val_ct_set, ring)\n",
    "]\n",
    "\n",
    "\n",
    "val_sets = [v for v in val_sets if v[0] != \"Uniform_Noise\"]\n",
    "\n",
    "#Change which val sets to use ^^^^\n",
    "\n",
    "\n",
    "\n",
    "count = 1\n",
    "for checkpoint in checkpoints:\n",
    "    load_checkpoint = os.path.join(checkpoint_directory, checkpoint)\n",
    "    # Load config and model\n",
    "    config = ResNetConfig.from_pretrained(load_checkpoint)\n",
    "    model = ResNetForMultiLabel.from_pretrained(load_checkpoint, config=config)\n",
    "\n",
    "    for val in val_sets:\n",
    "        val_data = val[1]\n",
    "        val_list = val[2]\n",
    "        metrics = evaluate_model(eval_dataset=val_data, model=model, output_dir=\"val_results\", num_epochs=0, batch_size=32)\n",
    "        metrics[\"checkpoint\"] = checkpoint\n",
    "        # print(metrics)\n",
    "        val_list.append(metrics)\n",
    "        df = pd.DataFrame(val_list)\n",
    "        # print(df)\n",
    "        df.to_csv(f\"{model_name}_val_{val[0]}.csv\")\n",
    "    count += 1\n",
    "    if count > 100:\n",
    "        #Sometimes non chkpt things can be found\n",
    "        break\n",
    "        \n",
    "\n"
   ]
  },
  {
   "cell_type": "markdown",
   "id": "ae2ee945",
   "metadata": {},
   "source": [
    "#### EVALUATE TEST SETS"
   ]
  },
  {
   "cell_type": "code",
   "execution_count": 40,
   "id": "4ba54e40",
   "metadata": {},
   "outputs": [
    {
     "name": "stdout",
     "output_type": "stream",
     "text": [
      "['original', 'Uniform_Noise', 'Rotate_90deg', 'Ring_Artifact_v1']\n",
      "\n",
      "Generating Rotate_90deg set\n",
      "Labels shape: (17778, 1)\n",
      "Images shape: (17778, 224, 224)\n",
      "\n",
      "Generating original set\n",
      "Labels shape: (17778, 1)\n",
      "Images shape: (17778, 224, 224)\n",
      "\n",
      "Generating Uniform_Noise set\n",
      "Labels shape: (17778, 1)\n",
      "Images shape: (17778, 224, 224)\n",
      "\n",
      "Generating Ring_Artifact_v1 set\n",
      "Labels shape: (17778, 1)\n",
      "Images shape: (17778, 224, 224)\n"
     ]
    }
   ],
   "source": [
    "test_set_loaded = np.load('test_concatenated_dataset_full.npz')\n",
    "key_list = [key for key in val_set_loaded.files if key != 'label']\n",
    "print(key_list)\n",
    "\n",
    "test_rotate_set = preprocess_data(test_set_loaded, 'Rotate_90deg')\n",
    "test_original_set = preprocess_data(test_set_loaded, 'original')\n",
    "test_noise_set = preprocess_data(test_set_loaded, 'Uniform_Noise')\n",
    "test_ct_set = preprocess_data(test_set_loaded, 'Ring_Artifact_v1')\n"
   ]
  },
  {
   "cell_type": "markdown",
   "id": "bf3325fc",
   "metadata": {},
   "source": [
    "#### Best model checkpoints based on validataion F1\n",
    "\n",
    "\n",
    "##### A_original checkpoint-10810\n",
    "##### A_ring checkpoint-24863\n",
    "##### A_rotate checkpoint-5405\n",
    "##### A_uniform checkpoint-43240\n",
    "##### C10 checkpoint-155568\n",
    "##### C11 checkpoint-6482"
   ]
  },
  {
   "cell_type": "code",
   "execution_count": 45,
   "id": "9af79b66",
   "metadata": {},
   "outputs": [
    {
     "name": "stderr",
     "output_type": "stream",
     "text": [
      "c:\\Users\\Calvin\\anaconda3\\lib\\site-packages\\transformers\\training_args.py:1568: FutureWarning: `evaluation_strategy` is deprecated and will be removed in version 4.46 of 🤗 Transformers. Use `eval_strategy` instead\n",
      "  warnings.warn(\n"
     ]
    },
    {
     "data": {
      "application/vnd.jupyter.widget-view+json": {
       "model_id": "7cbd7c2c0a4f41e385684e4d118fa6da",
       "version_major": 2,
       "version_minor": 0
      },
      "text/plain": [
       "  0%|          | 0/2223 [00:00<?, ?it/s]"
      ]
     },
     "metadata": {},
     "output_type": "display_data"
    },
    {
     "name": "stderr",
     "output_type": "stream",
     "text": [
      "c:\\Users\\Calvin\\anaconda3\\lib\\site-packages\\transformers\\training_args.py:1568: FutureWarning: `evaluation_strategy` is deprecated and will be removed in version 4.46 of 🤗 Transformers. Use `eval_strategy` instead\n",
      "  warnings.warn(\n"
     ]
    },
    {
     "data": {
      "application/vnd.jupyter.widget-view+json": {
       "model_id": "7c2c0d949db94184a337042285b88018",
       "version_major": 2,
       "version_minor": 0
      },
      "text/plain": [
       "  0%|          | 0/2223 [00:00<?, ?it/s]"
      ]
     },
     "metadata": {},
     "output_type": "display_data"
    },
    {
     "name": "stderr",
     "output_type": "stream",
     "text": [
      "c:\\Users\\Calvin\\anaconda3\\lib\\site-packages\\transformers\\training_args.py:1568: FutureWarning: `evaluation_strategy` is deprecated and will be removed in version 4.46 of 🤗 Transformers. Use `eval_strategy` instead\n",
      "  warnings.warn(\n"
     ]
    },
    {
     "data": {
      "application/vnd.jupyter.widget-view+json": {
       "model_id": "ffc4a22449a44062b37531517a8c33dc",
       "version_major": 2,
       "version_minor": 0
      },
      "text/plain": [
       "  0%|          | 0/2223 [00:00<?, ?it/s]"
      ]
     },
     "metadata": {},
     "output_type": "display_data"
    },
    {
     "name": "stderr",
     "output_type": "stream",
     "text": [
      "c:\\Users\\Calvin\\anaconda3\\lib\\site-packages\\transformers\\training_args.py:1568: FutureWarning: `evaluation_strategy` is deprecated and will be removed in version 4.46 of 🤗 Transformers. Use `eval_strategy` instead\n",
      "  warnings.warn(\n"
     ]
    },
    {
     "data": {
      "application/vnd.jupyter.widget-view+json": {
       "model_id": "03236fa276ad486fbea27b4390b5252f",
       "version_major": 2,
       "version_minor": 0
      },
      "text/plain": [
       "  0%|          | 0/2223 [00:00<?, ?it/s]"
      ]
     },
     "metadata": {},
     "output_type": "display_data"
    },
    {
     "name": "stderr",
     "output_type": "stream",
     "text": [
      "c:\\Users\\Calvin\\anaconda3\\lib\\site-packages\\transformers\\training_args.py:1568: FutureWarning: `evaluation_strategy` is deprecated and will be removed in version 4.46 of 🤗 Transformers. Use `eval_strategy` instead\n",
      "  warnings.warn(\n"
     ]
    },
    {
     "data": {
      "application/vnd.jupyter.widget-view+json": {
       "model_id": "35a34b2cfbef4e74a4873b233fa8cbb9",
       "version_major": 2,
       "version_minor": 0
      },
      "text/plain": [
       "  0%|          | 0/2223 [00:00<?, ?it/s]"
      ]
     },
     "metadata": {},
     "output_type": "display_data"
    },
    {
     "name": "stderr",
     "output_type": "stream",
     "text": [
      "c:\\Users\\Calvin\\anaconda3\\lib\\site-packages\\transformers\\training_args.py:1568: FutureWarning: `evaluation_strategy` is deprecated and will be removed in version 4.46 of 🤗 Transformers. Use `eval_strategy` instead\n",
      "  warnings.warn(\n"
     ]
    },
    {
     "data": {
      "application/vnd.jupyter.widget-view+json": {
       "model_id": "d96beb83507f4315808958edf0fed8b1",
       "version_major": 2,
       "version_minor": 0
      },
      "text/plain": [
       "  0%|          | 0/2223 [00:00<?, ?it/s]"
      ]
     },
     "metadata": {},
     "output_type": "display_data"
    },
    {
     "name": "stderr",
     "output_type": "stream",
     "text": [
      "c:\\Users\\Calvin\\anaconda3\\lib\\site-packages\\transformers\\training_args.py:1568: FutureWarning: `evaluation_strategy` is deprecated and will be removed in version 4.46 of 🤗 Transformers. Use `eval_strategy` instead\n",
      "  warnings.warn(\n"
     ]
    },
    {
     "data": {
      "application/vnd.jupyter.widget-view+json": {
       "model_id": "c014844bf4ef464a9307a1c00492a5d5",
       "version_major": 2,
       "version_minor": 0
      },
      "text/plain": [
       "  0%|          | 0/2223 [00:00<?, ?it/s]"
      ]
     },
     "metadata": {},
     "output_type": "display_data"
    },
    {
     "name": "stderr",
     "output_type": "stream",
     "text": [
      "c:\\Users\\Calvin\\anaconda3\\lib\\site-packages\\transformers\\training_args.py:1568: FutureWarning: `evaluation_strategy` is deprecated and will be removed in version 4.46 of 🤗 Transformers. Use `eval_strategy` instead\n",
      "  warnings.warn(\n"
     ]
    },
    {
     "data": {
      "application/vnd.jupyter.widget-view+json": {
       "model_id": "202bbf118a2240bf85430bb89ba41a34",
       "version_major": 2,
       "version_minor": 0
      },
      "text/plain": [
       "  0%|          | 0/2223 [00:00<?, ?it/s]"
      ]
     },
     "metadata": {},
     "output_type": "display_data"
    },
    {
     "name": "stderr",
     "output_type": "stream",
     "text": [
      "c:\\Users\\Calvin\\anaconda3\\lib\\site-packages\\transformers\\training_args.py:1568: FutureWarning: `evaluation_strategy` is deprecated and will be removed in version 4.46 of 🤗 Transformers. Use `eval_strategy` instead\n",
      "  warnings.warn(\n"
     ]
    },
    {
     "data": {
      "application/vnd.jupyter.widget-view+json": {
       "model_id": "e30f32c8f84a4672931f8180a0ee981e",
       "version_major": 2,
       "version_minor": 0
      },
      "text/plain": [
       "  0%|          | 0/2223 [00:00<?, ?it/s]"
      ]
     },
     "metadata": {},
     "output_type": "display_data"
    },
    {
     "name": "stderr",
     "output_type": "stream",
     "text": [
      "c:\\Users\\Calvin\\anaconda3\\lib\\site-packages\\transformers\\training_args.py:1568: FutureWarning: `evaluation_strategy` is deprecated and will be removed in version 4.46 of 🤗 Transformers. Use `eval_strategy` instead\n",
      "  warnings.warn(\n"
     ]
    },
    {
     "data": {
      "application/vnd.jupyter.widget-view+json": {
       "model_id": "0a072cd439654c1c9527ef24edb6063e",
       "version_major": 2,
       "version_minor": 0
      },
      "text/plain": [
       "  0%|          | 0/2223 [00:00<?, ?it/s]"
      ]
     },
     "metadata": {},
     "output_type": "display_data"
    },
    {
     "name": "stderr",
     "output_type": "stream",
     "text": [
      "c:\\Users\\Calvin\\anaconda3\\lib\\site-packages\\transformers\\training_args.py:1568: FutureWarning: `evaluation_strategy` is deprecated and will be removed in version 4.46 of 🤗 Transformers. Use `eval_strategy` instead\n",
      "  warnings.warn(\n"
     ]
    },
    {
     "data": {
      "application/vnd.jupyter.widget-view+json": {
       "model_id": "9d9e45ee53a7451fa8df325b658e222a",
       "version_major": 2,
       "version_minor": 0
      },
      "text/plain": [
       "  0%|          | 0/2223 [00:00<?, ?it/s]"
      ]
     },
     "metadata": {},
     "output_type": "display_data"
    },
    {
     "name": "stderr",
     "output_type": "stream",
     "text": [
      "c:\\Users\\Calvin\\anaconda3\\lib\\site-packages\\transformers\\training_args.py:1568: FutureWarning: `evaluation_strategy` is deprecated and will be removed in version 4.46 of 🤗 Transformers. Use `eval_strategy` instead\n",
      "  warnings.warn(\n"
     ]
    },
    {
     "data": {
      "application/vnd.jupyter.widget-view+json": {
       "model_id": "d46249408198425a9ecf4dd3c609ec53",
       "version_major": 2,
       "version_minor": 0
      },
      "text/plain": [
       "  0%|          | 0/2223 [00:00<?, ?it/s]"
      ]
     },
     "metadata": {},
     "output_type": "display_data"
    },
    {
     "name": "stderr",
     "output_type": "stream",
     "text": [
      "c:\\Users\\Calvin\\anaconda3\\lib\\site-packages\\transformers\\training_args.py:1568: FutureWarning: `evaluation_strategy` is deprecated and will be removed in version 4.46 of 🤗 Transformers. Use `eval_strategy` instead\n",
      "  warnings.warn(\n"
     ]
    },
    {
     "data": {
      "application/vnd.jupyter.widget-view+json": {
       "model_id": "bce70b8c080e4cc993eda477825ee575",
       "version_major": 2,
       "version_minor": 0
      },
      "text/plain": [
       "  0%|          | 0/2223 [00:00<?, ?it/s]"
      ]
     },
     "metadata": {},
     "output_type": "display_data"
    },
    {
     "name": "stderr",
     "output_type": "stream",
     "text": [
      "c:\\Users\\Calvin\\anaconda3\\lib\\site-packages\\transformers\\training_args.py:1568: FutureWarning: `evaluation_strategy` is deprecated and will be removed in version 4.46 of 🤗 Transformers. Use `eval_strategy` instead\n",
      "  warnings.warn(\n"
     ]
    },
    {
     "data": {
      "application/vnd.jupyter.widget-view+json": {
       "model_id": "b8ef8933f2c641c08ebd81e57ddd8bcd",
       "version_major": 2,
       "version_minor": 0
      },
      "text/plain": [
       "  0%|          | 0/2223 [00:00<?, ?it/s]"
      ]
     },
     "metadata": {},
     "output_type": "display_data"
    },
    {
     "name": "stderr",
     "output_type": "stream",
     "text": [
      "c:\\Users\\Calvin\\anaconda3\\lib\\site-packages\\transformers\\training_args.py:1568: FutureWarning: `evaluation_strategy` is deprecated and will be removed in version 4.46 of 🤗 Transformers. Use `eval_strategy` instead\n",
      "  warnings.warn(\n"
     ]
    },
    {
     "data": {
      "application/vnd.jupyter.widget-view+json": {
       "model_id": "2d64e9f570e341d58a3ee6aaad4a3a39",
       "version_major": 2,
       "version_minor": 0
      },
      "text/plain": [
       "  0%|          | 0/2223 [00:00<?, ?it/s]"
      ]
     },
     "metadata": {},
     "output_type": "display_data"
    },
    {
     "name": "stderr",
     "output_type": "stream",
     "text": [
      "c:\\Users\\Calvin\\anaconda3\\lib\\site-packages\\transformers\\training_args.py:1568: FutureWarning: `evaluation_strategy` is deprecated and will be removed in version 4.46 of 🤗 Transformers. Use `eval_strategy` instead\n",
      "  warnings.warn(\n"
     ]
    },
    {
     "data": {
      "application/vnd.jupyter.widget-view+json": {
       "model_id": "4978bb30f43b4824a25e341b84102067",
       "version_major": 2,
       "version_minor": 0
      },
      "text/plain": [
       "  0%|          | 0/2223 [00:00<?, ?it/s]"
      ]
     },
     "metadata": {},
     "output_type": "display_data"
    },
    {
     "name": "stderr",
     "output_type": "stream",
     "text": [
      "c:\\Users\\Calvin\\anaconda3\\lib\\site-packages\\transformers\\training_args.py:1568: FutureWarning: `evaluation_strategy` is deprecated and will be removed in version 4.46 of 🤗 Transformers. Use `eval_strategy` instead\n",
      "  warnings.warn(\n"
     ]
    },
    {
     "data": {
      "application/vnd.jupyter.widget-view+json": {
       "model_id": "7be57081e50c448f9b639ab286246e6e",
       "version_major": 2,
       "version_minor": 0
      },
      "text/plain": [
       "  0%|          | 0/2223 [00:00<?, ?it/s]"
      ]
     },
     "metadata": {},
     "output_type": "display_data"
    },
    {
     "name": "stderr",
     "output_type": "stream",
     "text": [
      "c:\\Users\\Calvin\\anaconda3\\lib\\site-packages\\transformers\\training_args.py:1568: FutureWarning: `evaluation_strategy` is deprecated and will be removed in version 4.46 of 🤗 Transformers. Use `eval_strategy` instead\n",
      "  warnings.warn(\n"
     ]
    },
    {
     "data": {
      "application/vnd.jupyter.widget-view+json": {
       "model_id": "7b7380b02fb64dae9547a308b903f090",
       "version_major": 2,
       "version_minor": 0
      },
      "text/plain": [
       "  0%|          | 0/2223 [00:00<?, ?it/s]"
      ]
     },
     "metadata": {},
     "output_type": "display_data"
    },
    {
     "name": "stderr",
     "output_type": "stream",
     "text": [
      "c:\\Users\\Calvin\\anaconda3\\lib\\site-packages\\transformers\\training_args.py:1568: FutureWarning: `evaluation_strategy` is deprecated and will be removed in version 4.46 of 🤗 Transformers. Use `eval_strategy` instead\n",
      "  warnings.warn(\n"
     ]
    },
    {
     "data": {
      "application/vnd.jupyter.widget-view+json": {
       "model_id": "50afed26265241c589c6f88ff45e945f",
       "version_major": 2,
       "version_minor": 0
      },
      "text/plain": [
       "  0%|          | 0/2223 [00:00<?, ?it/s]"
      ]
     },
     "metadata": {},
     "output_type": "display_data"
    },
    {
     "name": "stderr",
     "output_type": "stream",
     "text": [
      "c:\\Users\\Calvin\\anaconda3\\lib\\site-packages\\transformers\\training_args.py:1568: FutureWarning: `evaluation_strategy` is deprecated and will be removed in version 4.46 of 🤗 Transformers. Use `eval_strategy` instead\n",
      "  warnings.warn(\n"
     ]
    },
    {
     "data": {
      "application/vnd.jupyter.widget-view+json": {
       "model_id": "5021d6cdc8dd4607baa946f82502d4e0",
       "version_major": 2,
       "version_minor": 0
      },
      "text/plain": [
       "  0%|          | 0/2223 [00:00<?, ?it/s]"
      ]
     },
     "metadata": {},
     "output_type": "display_data"
    },
    {
     "name": "stderr",
     "output_type": "stream",
     "text": [
      "c:\\Users\\Calvin\\anaconda3\\lib\\site-packages\\transformers\\training_args.py:1568: FutureWarning: `evaluation_strategy` is deprecated and will be removed in version 4.46 of 🤗 Transformers. Use `eval_strategy` instead\n",
      "  warnings.warn(\n"
     ]
    },
    {
     "data": {
      "application/vnd.jupyter.widget-view+json": {
       "model_id": "c44a293f21fc414a93faeda601dca814",
       "version_major": 2,
       "version_minor": 0
      },
      "text/plain": [
       "  0%|          | 0/2223 [00:00<?, ?it/s]"
      ]
     },
     "metadata": {},
     "output_type": "display_data"
    },
    {
     "name": "stderr",
     "output_type": "stream",
     "text": [
      "c:\\Users\\Calvin\\anaconda3\\lib\\site-packages\\transformers\\training_args.py:1568: FutureWarning: `evaluation_strategy` is deprecated and will be removed in version 4.46 of 🤗 Transformers. Use `eval_strategy` instead\n",
      "  warnings.warn(\n"
     ]
    },
    {
     "data": {
      "application/vnd.jupyter.widget-view+json": {
       "model_id": "0ec30f7f6fe2427bbd44e91fd3a66f2b",
       "version_major": 2,
       "version_minor": 0
      },
      "text/plain": [
       "  0%|          | 0/2223 [00:00<?, ?it/s]"
      ]
     },
     "metadata": {},
     "output_type": "display_data"
    },
    {
     "name": "stderr",
     "output_type": "stream",
     "text": [
      "c:\\Users\\Calvin\\anaconda3\\lib\\site-packages\\transformers\\training_args.py:1568: FutureWarning: `evaluation_strategy` is deprecated and will be removed in version 4.46 of 🤗 Transformers. Use `eval_strategy` instead\n",
      "  warnings.warn(\n"
     ]
    },
    {
     "data": {
      "application/vnd.jupyter.widget-view+json": {
       "model_id": "c93026f314e34ea4b0478b9319370c6e",
       "version_major": 2,
       "version_minor": 0
      },
      "text/plain": [
       "  0%|          | 0/2223 [00:00<?, ?it/s]"
      ]
     },
     "metadata": {},
     "output_type": "display_data"
    },
    {
     "name": "stderr",
     "output_type": "stream",
     "text": [
      "c:\\Users\\Calvin\\anaconda3\\lib\\site-packages\\transformers\\training_args.py:1568: FutureWarning: `evaluation_strategy` is deprecated and will be removed in version 4.46 of 🤗 Transformers. Use `eval_strategy` instead\n",
      "  warnings.warn(\n"
     ]
    },
    {
     "data": {
      "application/vnd.jupyter.widget-view+json": {
       "model_id": "433a575cbc8044b28b39b02171c2c6e0",
       "version_major": 2,
       "version_minor": 0
      },
      "text/plain": [
       "  0%|          | 0/2223 [00:00<?, ?it/s]"
      ]
     },
     "metadata": {},
     "output_type": "display_data"
    }
   ],
   "source": [
    "import pandas as pd\n",
    "\n",
    "\n",
    "testing_models = [\n",
    "    ('A_original', os.path.join('A1_Original','results', 'checkpoint-10810')),\n",
    "    ('A_ring', os.path.join('A2_CT','results', 'checkpoint-24863')),\n",
    "    ('A_rotate', os.path.join('A3_ROT','results', 'checkpoint-5405')),\n",
    "    ('A_uniform', os.path.join('A4_UNI','results', 'checkpoint-43240')),\n",
    "    ('C10', os.path.join('C10_model','results', 'checkpoint-155568')),\n",
    "    ('C11', os.path.join('C11_model','results', 'checkpoint-6482')),\n",
    "]\n",
    "\n",
    "\n",
    "#Load in checkpoints.\n",
    "test_sets = [\n",
    "    (test_rotate_set, 'Rotate_90deg'),\n",
    "    (test_original_set, 'original'),\n",
    "    (test_noise_set, 'Uniform_Noise'),\n",
    "    (test_ct_set, 'Ring_Artifact_v1')\n",
    "]\n",
    "\n",
    "\n",
    "\n",
    "\n",
    "#Change which test sets to use ^^^^\n",
    "\n",
    "for model_name, checkpoint_path in testing_models:\n",
    "    config = ResNetConfig.from_pretrained(checkpoint_path)\n",
    "    model = ResNetForMultiLabel.from_pretrained(checkpoint_path, config=config)\n",
    "    result = []\n",
    "    \n",
    "    for testing_set, test_name in test_sets:\n",
    "        metrics = evaluate_model(eval_dataset=testing_set, model=model, output_dir=\"val_results\", num_epochs=0, batch_size=32)\n",
    "        metrics['test_set'] = test_name\n",
    "        result.append(metrics)\n",
    "        \n",
    "    df = pd.DataFrame(result)\n",
    "    df.to_csv(f\"{model_name}_test_results.csv\")\n",
    "        \n",
    "        \n",
    "\n"
   ]
  },
  {
   "cell_type": "code",
   "execution_count": null,
   "id": "42c8f20e",
   "metadata": {},
   "outputs": [],
   "source": []
  }
 ],
 "metadata": {
  "kernelspec": {
   "display_name": "base",
   "language": "python",
   "name": "python3"
  },
  "language_info": {
   "codemirror_mode": {
    "name": "ipython",
    "version": 3
   },
   "file_extension": ".py",
   "mimetype": "text/x-python",
   "name": "python",
   "nbconvert_exporter": "python",
   "pygments_lexer": "ipython3",
   "version": "3.8.8"
  }
 },
 "nbformat": 4,
 "nbformat_minor": 5
}
