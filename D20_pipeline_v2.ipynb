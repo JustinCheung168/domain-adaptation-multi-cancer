{
 "cells": [
  {
   "cell_type": "code",
   "execution_count": 1,
   "id": "a7b93199",
   "metadata": {},
   "outputs": [
    {
     "name": "stdout",
     "output_type": "stream",
     "text": [
      "34561 ['original', 'label', 'Uniform_Noise', 'Rotate_90deg']\n"
     ]
    },
    {
     "data": {
      "text/plain": [
       "<numpy.lib.npyio.NpzFile at 0x1ccb81b2d90>"
      ]
     },
     "execution_count": 1,
     "metadata": {},
     "output_type": "execute_result"
    }
   ],
   "source": [
    "import pandas as pd\n",
    "import numpy as np\n",
    "\n",
    "# data = np.load('distorted_data/concatenated_data.npz')\n",
    "data = np.load('datasets/training.npz')\n",
    "print(len(data['original']), list(data.keys()))\n",
    "data\n",
    "\n",
    "# # load the data from every file in the distorted_data directory\n",
    "\n",
    "# import os\n",
    "# data_dir = 'distorted_data'\n",
    "\n",
    "# data = []\n",
    "# for filename in os.listdir(data_dir):\n",
    "#     if filename.endswith('.npz'):\n",
    "#         file_path = os.path.join(data_dir, filename)\n",
    "#         loaded_data = np.load(file_path)\n",
    "#         data.append(loaded_data)\n",
    "\n",
    "# # concatenate the data from all files\n",
    "# all_data = {}\n",
    "# for key in data[0].keys():\n",
    "#     all_data[key] = np.concatenate([d[key] for d in data], axis=0)\n",
    "\n",
    "# # check the shape of the concatenated data\n",
    "# for key, value in all_data.items():\n",
    "#     print(f\"{key}: {value.shape}\")\n",
    "\n",
    "# # save the concatenated data to a new npz file\n",
    "# output_file = 'distorted_data/concatenated_data.npz'\n",
    "# np.savez(output_file, **all_data)"
   ]
  },
  {
   "cell_type": "code",
   "execution_count": 2,
   "id": "fe4780cf",
   "metadata": {},
   "outputs": [],
   "source": [
    "import os\n",
    "\n",
    "def import_data(directory, save_path=None, save=False):\n",
    "\n",
    "    data = []\n",
    "    for filename in os.listdir(directory):\n",
    "        if filename.endswith('.npz'):\n",
    "            file_path = os.path.join(directory, filename)\n",
    "            loaded_data = np.load(file_path)\n",
    "            data.append(loaded_data)\n",
    "\n",
    "    # concatenate the data from all files\n",
    "    all_data = {}\n",
    "    for key in data[0].keys():\n",
    "        all_data[key] = np.concatenate([d[key] for d in data], axis=0)\n",
    "\n",
    "    # check the shape of the concatenated data\n",
    "    for key, value in all_data.items():\n",
    "        print(f\"{key}: {value.shape}\")  \n",
    "\n",
    "    if save:\n",
    "        if save_path is None:\n",
    "            save_path = f'datasets/{directory}_concatenated_data.npz'\n",
    "        np.savez(save_path, **all_data)\n",
    "        print(f\"Data saved to {save_path}\")\n",
    "\n",
    "    return all_data"
   ]
  },
  {
   "cell_type": "code",
   "execution_count": 3,
   "id": "1c19c8e8",
   "metadata": {},
   "outputs": [
    {
     "name": "stdout",
     "output_type": "stream",
     "text": [
      "original: (34561, 224, 224)\n",
      "label: (34561, 1)\n",
      "Uniform_Noise: (34561, 224, 224)\n",
      "Rotate_90deg: (34561, 224, 224)\n",
      "Data saved to datasets/train.npz\n",
      "original: (6491, 224, 224)\n",
      "label: (6491, 1)\n",
      "Uniform_Noise: (6491, 224, 224)\n",
      "Rotate_90deg: (6491, 224, 224)\n",
      "Data saved to datasets/validation.npz\n",
      "original: (17778, 224, 224)\n",
      "label: (17778, 1)\n",
      "Uniform_Noise: (17778, 224, 224)\n",
      "Rotate_90deg: (17778, 224, 224)\n",
      "Data saved to datasets/test.npz\n"
     ]
    }
   ],
   "source": [
    "train_data = import_data('imported_distorted/train', save_path='datasets/train.npz', save=True)\n",
    "val_data =  import_data('imported_distorted/val', save_path='datasets/validation.npz', save=True)\n",
    "test_data = import_data('imported_distorted/test', save_path='datasets/test.npz', save=True)\n",
    "\n",
    "# Shuffle the training data\n",
    "seed = 42\n",
    "np.random.seed(seed)\n",
    "\n",
    "# Shuffle the data\n",
    "train_indices = np.random.permutation(len(train_data['original']))\n",
    "val_indices = np.random.permutation(len(val_data['original']))\n",
    "test_indices = np.random.permutation(len(test_data['original']))\n",
    "\n",
    "\n",
    "for key in train_data.keys():\n",
    "    train_data[key] = train_data[key][train_indices]\n",
    "\n",
    "for key in val_data.keys():\n",
    "    val_data[key] = val_data[key][val_indices]\n",
    "\n",
    "for key in test_data.keys():\n",
    "    test_data[key] = test_data[key][test_indices]\n"
   ]
  },
  {
   "cell_type": "code",
   "execution_count": 4,
   "id": "6103238d",
   "metadata": {},
   "outputs": [
    {
     "data": {
      "text/plain": [
       "dict_keys(['original', 'label', 'Uniform_Noise', 'Rotate_90deg'])"
      ]
     },
     "execution_count": 4,
     "metadata": {},
     "output_type": "execute_result"
    }
   ],
   "source": [
    "test_data.keys()"
   ]
  },
  {
   "cell_type": "code",
   "execution_count": 5,
   "id": "bea25448",
   "metadata": {},
   "outputs": [],
   "source": [
    "# keys = list(data.keys())\n",
    "\n",
    "# images = [data[keys[0]], data[keys[2]], data[keys[3]]]\n",
    "# labels = data[keys[1]]"
   ]
  },
  {
   "cell_type": "code",
   "execution_count": 6,
   "id": "9bb92491",
   "metadata": {},
   "outputs": [],
   "source": [
    "# images[0][0]"
   ]
  },
  {
   "cell_type": "code",
   "execution_count": 7,
   "id": "28add875",
   "metadata": {},
   "outputs": [],
   "source": [
    "def normalize_image(image, mean=0.5, std=0.5):\n",
    "    \"\"\"\n",
    "    Normalize an image tensor to have a mean and standard deviation.\n",
    "    \"\"\"\n",
    "    return (image - mean) / std\n",
    "\n",
    "def normalize_images(images, mean=0.5, std=0.5):\n",
    "    \"\"\"\n",
    "    Normalize a list of images.\n",
    "    \"\"\"\n",
    "    return [normalize_image(image, mean, std) for image in images]"
   ]
  },
  {
   "cell_type": "code",
   "execution_count": 8,
   "id": "73144dbe",
   "metadata": {},
   "outputs": [],
   "source": [
    "# normalized_images = []\n",
    "# for image in images:\n",
    "#     normalized_images.append(normalize_images(image))"
   ]
  },
  {
   "cell_type": "code",
   "execution_count": 9,
   "id": "3ac6181e",
   "metadata": {},
   "outputs": [],
   "source": [
    "def plot_sample_images(images, labels, n=3):\n",
    "    \"\"\"\n",
    "    Plot a sample of images with their corresponding labels.\n",
    "    \"\"\"\n",
    "    import matplotlib.pyplot as plt\n",
    "    import numpy as np\n",
    "\n",
    "    plt.figure(figsize=(15, 5))\n",
    "    for i in range(n):\n",
    "        plt.subplot(1, n, i + 1)\n",
    "        plt.imshow(images[i][0], cmap='gray')\n",
    "        plt.title(f'Label: {labels[i]}')\n",
    "        plt.axis('off')\n",
    "    plt.show()\n",
    "\n",
    "# plot_sample_images(images, labels)\n",
    "# plot_sample_images(normalized_images, labels)"
   ]
  },
  {
   "cell_type": "code",
   "execution_count": 10,
   "id": "f2176bc3",
   "metadata": {},
   "outputs": [],
   "source": [
    "# images[0][0]"
   ]
  },
  {
   "cell_type": "code",
   "execution_count": 11,
   "id": "45a63724",
   "metadata": {},
   "outputs": [],
   "source": [
    "# normalized_images[0][0]"
   ]
  },
  {
   "cell_type": "code",
   "execution_count": 12,
   "id": "662d4f72",
   "metadata": {},
   "outputs": [],
   "source": [
    "# type(normalized_images[0][0])\n",
    "# normalized_images[0][0].shape"
   ]
  },
  {
   "cell_type": "code",
   "execution_count": 13,
   "id": "e4670a01",
   "metadata": {},
   "outputs": [],
   "source": [
    "# zero_labels = np.zeros_like(labels)\n",
    "# one_labels = np.ones_like(labels)\n",
    "\n",
    "# print(zero_labels.shape, one_labels.shape)\n",
    "\n",
    "# domain_labels = np.concatenate((zero_labels, one_labels, one_labels), axis=0)\n",
    "# print(domain_labels.shape)\n",
    "\n",
    "# expanded_labels = np.concatenate((labels, labels, labels), axis=0)\n",
    "# print(expanded_labels.shape)"
   ]
  },
  {
   "cell_type": "code",
   "execution_count": 14,
   "id": "be8a8da8",
   "metadata": {},
   "outputs": [],
   "source": [
    "# # concatenate the matrices in the images list\n",
    "# concatenated_images = np.concatenate(normalized_images, axis=0)\n",
    "# concatenated_images.shape"
   ]
  },
  {
   "cell_type": "code",
   "execution_count": 15,
   "id": "2bc65456",
   "metadata": {},
   "outputs": [
    {
     "name": "stdout",
     "output_type": "stream",
     "text": [
      "WARNING:tensorflow:From C:\\Users\\samue\\AppData\\Roaming\\Python\\Python311\\site-packages\\keras\\src\\losses.py:2976: The name tf.losses.sparse_softmax_cross_entropy is deprecated. Please use tf.compat.v1.losses.sparse_softmax_cross_entropy instead.\n",
      "\n"
     ]
    }
   ],
   "source": [
    "from branched_resnet import CustomImageDataset\n",
    "\n",
    "def preprocess_data(data, distortions = [3], include_original=True, save_data=False, save_path=None):\n",
    "\n",
    "    keys = list(data.keys())\n",
    "\n",
    "    if include_original:\n",
    "        images = [data[keys[0]]]\n",
    "    else:\n",
    "        images = []\n",
    "\n",
    "    for distortion in distortions:\n",
    "        images.append(data[keys[distortion]])\n",
    "\n",
    "    labels = data[keys[1]]\n",
    "\n",
    "    normalized_images = []\n",
    "    for image in images:\n",
    "        normalized_images.append(normalize_images(image))\n",
    "\n",
    "    zero_labels = np.zeros_like(labels)\n",
    "    one_labels = np.ones_like(labels)\n",
    "\n",
    "    if include_original:\n",
    "        domain_label_list = [zero_labels]\n",
    "        expanded_label_list = [labels]\n",
    "    else:\n",
    "        domain_label_list = []\n",
    "        expanded_label_list = []\n",
    "\n",
    "    for _ in distortions:\n",
    "        domain_label_list.append(one_labels)\n",
    "        expanded_label_list.append(labels)\n",
    "\n",
    "    domain_labels = np.concatenate(domain_label_list, axis=0)\n",
    "    expanded_labels = np.concatenate(expanded_label_list, axis=0)\n",
    "\n",
    "    print(f\"Domain labels shape: {domain_labels.shape}\")\n",
    "    print(f\"Expanded labels shape: {expanded_labels.shape}\")\n",
    "\n",
    "    concatenated_images = np.concatenate(normalized_images, axis=0)\n",
    "\n",
    "    # Shuffle the concatenated images and labels\n",
    "    seed = 42\n",
    "    np.random.seed(seed)\n",
    "    shuffled_indices = np.random.permutation(len(concatenated_images))\n",
    "    concatenated_images = concatenated_images[shuffled_indices]\n",
    "    expanded_labels = expanded_labels[shuffled_indices]\n",
    "    domain_labels = domain_labels[shuffled_indices]\n",
    "\n",
    "    if save_data:\n",
    "        if save_path is None:\n",
    "            raise ValueError(\"save_path must be specified if save_data is True\")\n",
    "        np.savez_compressed(save_path, images=concatenated_images, labels1=expanded_labels, labels2=domain_labels)\n",
    "\n",
    "    dataset = CustomImageDataset(images=concatenated_images, labels1=expanded_labels, labels2=domain_labels)\n",
    "\n",
    "    return dataset"
   ]
  },
  {
   "cell_type": "code",
   "execution_count": 16,
   "id": "7eb8ae09",
   "metadata": {},
   "outputs": [
    {
     "name": "stdout",
     "output_type": "stream",
     "text": [
      "resnet.embedder.embedder.convolution.weight tensor(-1.7982e-05) True\n"
     ]
    }
   ],
   "source": [
    "import branched_resnet_v2 as br \n",
    "from branched_resnet_v2 import CustomImageDataset\n",
    "# import branched_resnet as br \n",
    "# from branched_resnet import CustomImageDataset\n",
    "\n",
    "from transformers import Trainer, TrainingArguments, PreTrainedModel, ResNetConfig\n",
    "\n",
    "config = ResNetConfig()\n",
    "model = br.ResNetForMultiLabel(config=config, num_d1_classes=11, num_d2_classes=2, lamb = 0)\n",
    "\n",
    "for name, param in model.named_parameters():\n",
    "    print(name, param.data.mean(), param.requires_grad)\n",
    "    break\n",
    "\n",
    "#train_ds = CustomImageDataset(images=concatenated_images, labels1=expanded_labels, labels2=domain_labels)\n",
    "\n",
    "# vars(model)"
   ]
  },
  {
   "cell_type": "code",
   "execution_count": 17,
   "id": "8c4d5720",
   "metadata": {},
   "outputs": [
    {
     "name": "stdout",
     "output_type": "stream",
     "text": [
      "Domain labels shape: (69122, 1)\n",
      "Expanded labels shape: (69122, 1)\n",
      "Domain labels shape: (6491, 1)\n",
      "Expanded labels shape: (6491, 1)\n"
     ]
    }
   ],
   "source": [
    "train_ds = preprocess_data(train_data, distortions=[3], save_data=True, save_path='datasets/D20_v2_processed_train_data.npz')\n",
    "val_ds = preprocess_data(val_data, distortions=[], save_data=True, save_path='datasets/D20_v2_processed_val_data.npz')\n",
    "#test_ds = preprocess_data(test_data, distortions=[2, 3])"
   ]
  },
  {
   "cell_type": "code",
   "execution_count": 18,
   "id": "8ac07506",
   "metadata": {},
   "outputs": [
    {
     "data": {
      "text/plain": [
       "branched_resnet_v2.CustomImageDataset"
      ]
     },
     "execution_count": 18,
     "metadata": {},
     "output_type": "execute_result"
    }
   ],
   "source": [
    "type(val_ds)"
   ]
  },
  {
   "cell_type": "markdown",
   "id": "3612c3ff",
   "metadata": {},
   "source": [
    "# D20\n",
    "\n",
    "Train on undistorted and rotate 90\n",
    "\n",
    "Test on the rest"
   ]
  },
  {
   "cell_type": "code",
   "execution_count": 19,
   "id": "6a365111",
   "metadata": {},
   "outputs": [
    {
     "name": "stderr",
     "output_type": "stream",
     "text": [
      "C:\\Users\\samue\\AppData\\Roaming\\Python\\Python311\\site-packages\\transformers\\training_args.py:1594: FutureWarning: `evaluation_strategy` is deprecated and will be removed in version 4.46 of 🤗 Transformers. Use `eval_strategy` instead\n",
      "  warnings.warn(\n",
      "\u001b[34m\u001b[1mwandb\u001b[0m: \u001b[33mWARNING\u001b[0m The `run_name` is currently set to the same value as `TrainingArguments.output_dir`. If this was not intended, please specify a different run name by setting the `TrainingArguments.run_name` parameter.\n",
      "Failed to detect the name of this notebook, you can set it manually with the WANDB_NOTEBOOK_NAME environment variable to enable code saving.\n",
      "\u001b[34m\u001b[1mwandb\u001b[0m: Currently logged in as: \u001b[33msamuelsavine\u001b[0m (\u001b[33msamuelsavine-johns-hopkins-university\u001b[0m). Use \u001b[1m`wandb login --relogin`\u001b[0m to force relogin\n"
     ]
    },
    {
     "data": {
      "text/html": [
       "wandb version 0.21.1 is available!  To upgrade, please run:\n",
       " $ pip install wandb --upgrade"
      ],
      "text/plain": [
       "<IPython.core.display.HTML object>"
      ]
     },
     "metadata": {},
     "output_type": "display_data"
    },
    {
     "data": {
      "text/html": [
       "Tracking run with wandb version 0.16.3"
      ],
      "text/plain": [
       "<IPython.core.display.HTML object>"
      ]
     },
     "metadata": {},
     "output_type": "display_data"
    },
    {
     "data": {
      "text/html": [
       "Run data is saved locally in <code>c:\\Users\\samue\\ML_Deep_Learning\\research\\wandb\\run-20250808_110708-1ijir26t</code>"
      ],
      "text/plain": [
       "<IPython.core.display.HTML object>"
      ]
     },
     "metadata": {},
     "output_type": "display_data"
    },
    {
     "data": {
      "text/html": [
       "Syncing run <strong><a href='https://wandb.ai/samuelsavine-johns-hopkins-university/huggingface/runs/1ijir26t' target=\"_blank\">./D20_Experiment</a></strong> to <a href='https://wandb.ai/samuelsavine-johns-hopkins-university/huggingface' target=\"_blank\">Weights & Biases</a> (<a href='https://wandb.me/run' target=\"_blank\">docs</a>)<br/>"
      ],
      "text/plain": [
       "<IPython.core.display.HTML object>"
      ]
     },
     "metadata": {},
     "output_type": "display_data"
    },
    {
     "data": {
      "text/html": [
       " View project at <a href='https://wandb.ai/samuelsavine-johns-hopkins-university/huggingface' target=\"_blank\">https://wandb.ai/samuelsavine-johns-hopkins-university/huggingface</a>"
      ],
      "text/plain": [
       "<IPython.core.display.HTML object>"
      ]
     },
     "metadata": {},
     "output_type": "display_data"
    },
    {
     "data": {
      "text/html": [
       " View run at <a href='https://wandb.ai/samuelsavine-johns-hopkins-university/huggingface/runs/1ijir26t' target=\"_blank\">https://wandb.ai/samuelsavine-johns-hopkins-university/huggingface/runs/1ijir26t</a>"
      ],
      "text/plain": [
       "<IPython.core.display.HTML object>"
      ]
     },
     "metadata": {},
     "output_type": "display_data"
    },
    {
     "name": "stderr",
     "output_type": "stream",
     "text": [
      "Could not estimate the number of tokens of the input, floating-point operations will not be computed\n"
     ]
    },
    {
     "data": {
      "text/html": [
       "\n",
       "    <div>\n",
       "      \n",
       "      <progress value='108050' max='108050' style='width:300px; height:20px; vertical-align: middle;'></progress>\n",
       "      [108050/108050 4:32:26, Epoch 50/50]\n",
       "    </div>\n",
       "    <table border=\"1\" class=\"dataframe\">\n",
       "  <thead>\n",
       " <tr style=\"text-align: left;\">\n",
       "      <th>Epoch</th>\n",
       "      <th>Training Loss</th>\n",
       "      <th>Validation Loss</th>\n",
       "      <th>Accuracy Branch1</th>\n",
       "      <th>Precision Branch1</th>\n",
       "      <th>Recall Branch1</th>\n",
       "      <th>F1 Branch1</th>\n",
       "      <th>Accuracy Branch2</th>\n",
       "      <th>Precision Branch2</th>\n",
       "      <th>Recall Branch2</th>\n",
       "      <th>F1 Branch2</th>\n",
       "      <th>Lambda</th>\n",
       "    </tr>\n",
       "  </thead>\n",
       "  <tbody>\n",
       "    <tr>\n",
       "      <td>1</td>\n",
       "      <td>1.081600</td>\n",
       "      <td>0.913724</td>\n",
       "      <td>0.809120</td>\n",
       "      <td>0.738810</td>\n",
       "      <td>0.746397</td>\n",
       "      <td>0.706368</td>\n",
       "      <td>0.768141</td>\n",
       "      <td>0.500000</td>\n",
       "      <td>0.384070</td>\n",
       "      <td>0.434434</td>\n",
       "      <td>0.000000</td>\n",
       "    </tr>\n",
       "    <tr>\n",
       "      <td>2</td>\n",
       "      <td>1.321300</td>\n",
       "      <td>0.666521</td>\n",
       "      <td>0.904791</td>\n",
       "      <td>0.898811</td>\n",
       "      <td>0.879645</td>\n",
       "      <td>0.876796</td>\n",
       "      <td>0.991219</td>\n",
       "      <td>0.500000</td>\n",
       "      <td>0.495609</td>\n",
       "      <td>0.497795</td>\n",
       "      <td>0.099668</td>\n",
       "    </tr>\n",
       "    <tr>\n",
       "      <td>3</td>\n",
       "      <td>2.273700</td>\n",
       "      <td>2.494968</td>\n",
       "      <td>0.920659</td>\n",
       "      <td>0.917688</td>\n",
       "      <td>0.906091</td>\n",
       "      <td>0.905602</td>\n",
       "      <td>0.000000</td>\n",
       "      <td>0.000000</td>\n",
       "      <td>0.000000</td>\n",
       "      <td>0.000000</td>\n",
       "      <td>0.197375</td>\n",
       "    </tr>\n",
       "    <tr>\n",
       "      <td>4</td>\n",
       "      <td>3.737300</td>\n",
       "      <td>1.758021</td>\n",
       "      <td>0.879217</td>\n",
       "      <td>0.907207</td>\n",
       "      <td>0.883580</td>\n",
       "      <td>0.886771</td>\n",
       "      <td>0.064089</td>\n",
       "      <td>0.500000</td>\n",
       "      <td>0.032044</td>\n",
       "      <td>0.060229</td>\n",
       "      <td>0.291313</td>\n",
       "    </tr>\n",
       "    <tr>\n",
       "      <td>5</td>\n",
       "      <td>5.644900</td>\n",
       "      <td>0.273679</td>\n",
       "      <td>0.928670</td>\n",
       "      <td>0.918629</td>\n",
       "      <td>0.908133</td>\n",
       "      <td>0.906721</td>\n",
       "      <td>1.000000</td>\n",
       "      <td>1.000000</td>\n",
       "      <td>1.000000</td>\n",
       "      <td>1.000000</td>\n",
       "      <td>0.379949</td>\n",
       "    </tr>\n",
       "    <tr>\n",
       "      <td>6</td>\n",
       "      <td>6.015900</td>\n",
       "      <td>7.905061</td>\n",
       "      <td>0.917732</td>\n",
       "      <td>0.914086</td>\n",
       "      <td>0.889887</td>\n",
       "      <td>0.886007</td>\n",
       "      <td>0.000000</td>\n",
       "      <td>0.000000</td>\n",
       "      <td>0.000000</td>\n",
       "      <td>0.000000</td>\n",
       "      <td>0.462117</td>\n",
       "    </tr>\n",
       "    <tr>\n",
       "      <td>7</td>\n",
       "      <td>7.144300</td>\n",
       "      <td>0.421600</td>\n",
       "      <td>0.868895</td>\n",
       "      <td>0.889770</td>\n",
       "      <td>0.861603</td>\n",
       "      <td>0.867109</td>\n",
       "      <td>1.000000</td>\n",
       "      <td>1.000000</td>\n",
       "      <td>1.000000</td>\n",
       "      <td>1.000000</td>\n",
       "      <td>0.537050</td>\n",
       "    </tr>\n",
       "    <tr>\n",
       "      <td>8</td>\n",
       "      <td>9.133400</td>\n",
       "      <td>8.716675</td>\n",
       "      <td>0.896934</td>\n",
       "      <td>0.899942</td>\n",
       "      <td>0.878330</td>\n",
       "      <td>0.878631</td>\n",
       "      <td>0.000000</td>\n",
       "      <td>0.000000</td>\n",
       "      <td>0.000000</td>\n",
       "      <td>0.000000</td>\n",
       "      <td>0.604368</td>\n",
       "    </tr>\n",
       "    <tr>\n",
       "      <td>9</td>\n",
       "      <td>10.700600</td>\n",
       "      <td>6.000147</td>\n",
       "      <td>0.486058</td>\n",
       "      <td>0.575509</td>\n",
       "      <td>0.552276</td>\n",
       "      <td>0.487792</td>\n",
       "      <td>1.000000</td>\n",
       "      <td>1.000000</td>\n",
       "      <td>1.000000</td>\n",
       "      <td>1.000000</td>\n",
       "      <td>0.664037</td>\n",
       "    </tr>\n",
       "    <tr>\n",
       "      <td>10</td>\n",
       "      <td>10.887300</td>\n",
       "      <td>16.727074</td>\n",
       "      <td>0.648590</td>\n",
       "      <td>0.826877</td>\n",
       "      <td>0.607465</td>\n",
       "      <td>0.586025</td>\n",
       "      <td>0.000000</td>\n",
       "      <td>0.000000</td>\n",
       "      <td>0.000000</td>\n",
       "      <td>0.000000</td>\n",
       "      <td>0.716298</td>\n",
       "    </tr>\n",
       "    <tr>\n",
       "      <td>11</td>\n",
       "      <td>12.383100</td>\n",
       "      <td>14.495854</td>\n",
       "      <td>0.106455</td>\n",
       "      <td>0.051347</td>\n",
       "      <td>0.161139</td>\n",
       "      <td>0.067934</td>\n",
       "      <td>0.000000</td>\n",
       "      <td>0.000000</td>\n",
       "      <td>0.000000</td>\n",
       "      <td>0.000000</td>\n",
       "      <td>0.761594</td>\n",
       "    </tr>\n",
       "    <tr>\n",
       "      <td>12</td>\n",
       "      <td>10.744300</td>\n",
       "      <td>13.442673</td>\n",
       "      <td>0.555692</td>\n",
       "      <td>0.690400</td>\n",
       "      <td>0.571108</td>\n",
       "      <td>0.510992</td>\n",
       "      <td>0.000000</td>\n",
       "      <td>0.000000</td>\n",
       "      <td>0.000000</td>\n",
       "      <td>0.000000</td>\n",
       "      <td>0.800499</td>\n",
       "    </tr>\n",
       "    <tr>\n",
       "      <td>13</td>\n",
       "      <td>13.450000</td>\n",
       "      <td>2.106220</td>\n",
       "      <td>0.618241</td>\n",
       "      <td>0.608866</td>\n",
       "      <td>0.470612</td>\n",
       "      <td>0.407109</td>\n",
       "      <td>1.000000</td>\n",
       "      <td>1.000000</td>\n",
       "      <td>1.000000</td>\n",
       "      <td>1.000000</td>\n",
       "      <td>0.833655</td>\n",
       "    </tr>\n",
       "    <tr>\n",
       "      <td>14</td>\n",
       "      <td>15.926300</td>\n",
       "      <td>11.332422</td>\n",
       "      <td>0.513942</td>\n",
       "      <td>0.637021</td>\n",
       "      <td>0.405985</td>\n",
       "      <td>0.384204</td>\n",
       "      <td>0.000000</td>\n",
       "      <td>0.000000</td>\n",
       "      <td>0.000000</td>\n",
       "      <td>0.000000</td>\n",
       "      <td>0.861723</td>\n",
       "    </tr>\n",
       "    <tr>\n",
       "      <td>15</td>\n",
       "      <td>14.690200</td>\n",
       "      <td>11.722797</td>\n",
       "      <td>0.293021</td>\n",
       "      <td>0.354483</td>\n",
       "      <td>0.286955</td>\n",
       "      <td>0.181327</td>\n",
       "      <td>0.000000</td>\n",
       "      <td>0.000000</td>\n",
       "      <td>0.000000</td>\n",
       "      <td>0.000000</td>\n",
       "      <td>0.885352</td>\n",
       "    </tr>\n",
       "    <tr>\n",
       "      <td>16</td>\n",
       "      <td>14.847900</td>\n",
       "      <td>17.324286</td>\n",
       "      <td>0.320136</td>\n",
       "      <td>0.343832</td>\n",
       "      <td>0.369587</td>\n",
       "      <td>0.253954</td>\n",
       "      <td>0.000000</td>\n",
       "      <td>0.000000</td>\n",
       "      <td>0.000000</td>\n",
       "      <td>0.000000</td>\n",
       "      <td>0.905148</td>\n",
       "    </tr>\n",
       "    <tr>\n",
       "      <td>17</td>\n",
       "      <td>14.299700</td>\n",
       "      <td>16.785484</td>\n",
       "      <td>0.783392</td>\n",
       "      <td>0.761030</td>\n",
       "      <td>0.718217</td>\n",
       "      <td>0.678528</td>\n",
       "      <td>0.000000</td>\n",
       "      <td>0.000000</td>\n",
       "      <td>0.000000</td>\n",
       "      <td>0.000000</td>\n",
       "      <td>0.921669</td>\n",
       "    </tr>\n",
       "    <tr>\n",
       "      <td>18</td>\n",
       "      <td>15.512700</td>\n",
       "      <td>5.241457</td>\n",
       "      <td>0.276229</td>\n",
       "      <td>0.227111</td>\n",
       "      <td>0.224724</td>\n",
       "      <td>0.141206</td>\n",
       "      <td>1.000000</td>\n",
       "      <td>1.000000</td>\n",
       "      <td>1.000000</td>\n",
       "      <td>1.000000</td>\n",
       "      <td>0.935409</td>\n",
       "    </tr>\n",
       "    <tr>\n",
       "      <td>19</td>\n",
       "      <td>14.416600</td>\n",
       "      <td>4.169755</td>\n",
       "      <td>0.338469</td>\n",
       "      <td>0.240245</td>\n",
       "      <td>0.285843</td>\n",
       "      <td>0.214049</td>\n",
       "      <td>1.000000</td>\n",
       "      <td>1.000000</td>\n",
       "      <td>1.000000</td>\n",
       "      <td>1.000000</td>\n",
       "      <td>0.946806</td>\n",
       "    </tr>\n",
       "    <tr>\n",
       "      <td>20</td>\n",
       "      <td>14.086900</td>\n",
       "      <td>4.515313</td>\n",
       "      <td>0.580496</td>\n",
       "      <td>0.758838</td>\n",
       "      <td>0.582854</td>\n",
       "      <td>0.524037</td>\n",
       "      <td>0.000000</td>\n",
       "      <td>0.000000</td>\n",
       "      <td>0.000000</td>\n",
       "      <td>0.000000</td>\n",
       "      <td>0.956237</td>\n",
       "    </tr>\n",
       "    <tr>\n",
       "      <td>21</td>\n",
       "      <td>13.889000</td>\n",
       "      <td>5.412342</td>\n",
       "      <td>0.497458</td>\n",
       "      <td>0.353129</td>\n",
       "      <td>0.449076</td>\n",
       "      <td>0.330255</td>\n",
       "      <td>1.000000</td>\n",
       "      <td>1.000000</td>\n",
       "      <td>1.000000</td>\n",
       "      <td>1.000000</td>\n",
       "      <td>0.964028</td>\n",
       "    </tr>\n",
       "    <tr>\n",
       "      <td>22</td>\n",
       "      <td>15.044700</td>\n",
       "      <td>2.640620</td>\n",
       "      <td>0.544908</td>\n",
       "      <td>0.520048</td>\n",
       "      <td>0.516090</td>\n",
       "      <td>0.439959</td>\n",
       "      <td>1.000000</td>\n",
       "      <td>1.000000</td>\n",
       "      <td>1.000000</td>\n",
       "      <td>1.000000</td>\n",
       "      <td>0.970452</td>\n",
       "    </tr>\n",
       "    <tr>\n",
       "      <td>23</td>\n",
       "      <td>12.720900</td>\n",
       "      <td>14.884849</td>\n",
       "      <td>0.772762</td>\n",
       "      <td>0.671476</td>\n",
       "      <td>0.708352</td>\n",
       "      <td>0.655036</td>\n",
       "      <td>0.000000</td>\n",
       "      <td>0.000000</td>\n",
       "      <td>0.000000</td>\n",
       "      <td>0.000000</td>\n",
       "      <td>0.975743</td>\n",
       "    </tr>\n",
       "    <tr>\n",
       "      <td>24</td>\n",
       "      <td>11.915500</td>\n",
       "      <td>10.056255</td>\n",
       "      <td>0.406563</td>\n",
       "      <td>0.318046</td>\n",
       "      <td>0.315960</td>\n",
       "      <td>0.230164</td>\n",
       "      <td>0.000000</td>\n",
       "      <td>0.000000</td>\n",
       "      <td>0.000000</td>\n",
       "      <td>0.000000</td>\n",
       "      <td>0.980096</td>\n",
       "    </tr>\n",
       "    <tr>\n",
       "      <td>25</td>\n",
       "      <td>12.711400</td>\n",
       "      <td>23.811649</td>\n",
       "      <td>0.855646</td>\n",
       "      <td>0.766580</td>\n",
       "      <td>0.793909</td>\n",
       "      <td>0.766404</td>\n",
       "      <td>0.000000</td>\n",
       "      <td>0.000000</td>\n",
       "      <td>0.000000</td>\n",
       "      <td>0.000000</td>\n",
       "      <td>0.983675</td>\n",
       "    </tr>\n",
       "    <tr>\n",
       "      <td>26</td>\n",
       "      <td>11.056100</td>\n",
       "      <td>8.135138</td>\n",
       "      <td>0.200123</td>\n",
       "      <td>0.190783</td>\n",
       "      <td>0.155325</td>\n",
       "      <td>0.091948</td>\n",
       "      <td>1.000000</td>\n",
       "      <td>1.000000</td>\n",
       "      <td>1.000000</td>\n",
       "      <td>1.000000</td>\n",
       "      <td>0.986614</td>\n",
       "    </tr>\n",
       "    <tr>\n",
       "      <td>27</td>\n",
       "      <td>10.218500</td>\n",
       "      <td>6.052510</td>\n",
       "      <td>0.252041</td>\n",
       "      <td>0.208456</td>\n",
       "      <td>0.236221</td>\n",
       "      <td>0.126566</td>\n",
       "      <td>1.000000</td>\n",
       "      <td>1.000000</td>\n",
       "      <td>1.000000</td>\n",
       "      <td>1.000000</td>\n",
       "      <td>0.989027</td>\n",
       "    </tr>\n",
       "    <tr>\n",
       "      <td>28</td>\n",
       "      <td>10.377600</td>\n",
       "      <td>1.160701</td>\n",
       "      <td>0.629179</td>\n",
       "      <td>0.718235</td>\n",
       "      <td>0.662690</td>\n",
       "      <td>0.599047</td>\n",
       "      <td>1.000000</td>\n",
       "      <td>1.000000</td>\n",
       "      <td>1.000000</td>\n",
       "      <td>1.000000</td>\n",
       "      <td>0.991007</td>\n",
       "    </tr>\n",
       "    <tr>\n",
       "      <td>29</td>\n",
       "      <td>10.211500</td>\n",
       "      <td>15.279127</td>\n",
       "      <td>0.733169</td>\n",
       "      <td>0.725466</td>\n",
       "      <td>0.678943</td>\n",
       "      <td>0.625182</td>\n",
       "      <td>0.000000</td>\n",
       "      <td>0.000000</td>\n",
       "      <td>0.000000</td>\n",
       "      <td>0.000000</td>\n",
       "      <td>0.992632</td>\n",
       "    </tr>\n",
       "    <tr>\n",
       "      <td>30</td>\n",
       "      <td>10.680100</td>\n",
       "      <td>0.663279</td>\n",
       "      <td>0.735634</td>\n",
       "      <td>0.764345</td>\n",
       "      <td>0.605588</td>\n",
       "      <td>0.617987</td>\n",
       "      <td>1.000000</td>\n",
       "      <td>1.000000</td>\n",
       "      <td>1.000000</td>\n",
       "      <td>1.000000</td>\n",
       "      <td>0.993963</td>\n",
       "    </tr>\n",
       "    <tr>\n",
       "      <td>31</td>\n",
       "      <td>9.776200</td>\n",
       "      <td>15.070383</td>\n",
       "      <td>0.862733</td>\n",
       "      <td>0.861752</td>\n",
       "      <td>0.806857</td>\n",
       "      <td>0.783518</td>\n",
       "      <td>0.000000</td>\n",
       "      <td>0.000000</td>\n",
       "      <td>0.000000</td>\n",
       "      <td>0.000000</td>\n",
       "      <td>0.995055</td>\n",
       "    </tr>\n",
       "    <tr>\n",
       "      <td>32</td>\n",
       "      <td>8.736000</td>\n",
       "      <td>38.573090</td>\n",
       "      <td>0.855184</td>\n",
       "      <td>0.783726</td>\n",
       "      <td>0.785575</td>\n",
       "      <td>0.766708</td>\n",
       "      <td>0.000000</td>\n",
       "      <td>0.000000</td>\n",
       "      <td>0.000000</td>\n",
       "      <td>0.000000</td>\n",
       "      <td>0.995949</td>\n",
       "    </tr>\n",
       "    <tr>\n",
       "      <td>33</td>\n",
       "      <td>7.998700</td>\n",
       "      <td>0.523566</td>\n",
       "      <td>0.759051</td>\n",
       "      <td>0.739546</td>\n",
       "      <td>0.671422</td>\n",
       "      <td>0.616828</td>\n",
       "      <td>1.000000</td>\n",
       "      <td>1.000000</td>\n",
       "      <td>1.000000</td>\n",
       "      <td>1.000000</td>\n",
       "      <td>0.996682</td>\n",
       "    </tr>\n",
       "    <tr>\n",
       "      <td>34</td>\n",
       "      <td>8.192400</td>\n",
       "      <td>2.087722</td>\n",
       "      <td>0.779849</td>\n",
       "      <td>0.744324</td>\n",
       "      <td>0.694806</td>\n",
       "      <td>0.687287</td>\n",
       "      <td>0.000000</td>\n",
       "      <td>0.000000</td>\n",
       "      <td>0.000000</td>\n",
       "      <td>0.000000</td>\n",
       "      <td>0.997283</td>\n",
       "    </tr>\n",
       "    <tr>\n",
       "      <td>35</td>\n",
       "      <td>5.847800</td>\n",
       "      <td>1.168823</td>\n",
       "      <td>0.693422</td>\n",
       "      <td>0.750048</td>\n",
       "      <td>0.695578</td>\n",
       "      <td>0.648307</td>\n",
       "      <td>1.000000</td>\n",
       "      <td>1.000000</td>\n",
       "      <td>1.000000</td>\n",
       "      <td>1.000000</td>\n",
       "      <td>0.997775</td>\n",
       "    </tr>\n",
       "    <tr>\n",
       "      <td>36</td>\n",
       "      <td>6.937300</td>\n",
       "      <td>0.567403</td>\n",
       "      <td>0.834078</td>\n",
       "      <td>0.862393</td>\n",
       "      <td>0.796679</td>\n",
       "      <td>0.801770</td>\n",
       "      <td>1.000000</td>\n",
       "      <td>1.000000</td>\n",
       "      <td>1.000000</td>\n",
       "      <td>1.000000</td>\n",
       "      <td>0.998178</td>\n",
       "    </tr>\n",
       "    <tr>\n",
       "      <td>37</td>\n",
       "      <td>5.804600</td>\n",
       "      <td>0.561753</td>\n",
       "      <td>0.735326</td>\n",
       "      <td>0.807011</td>\n",
       "      <td>0.617243</td>\n",
       "      <td>0.622024</td>\n",
       "      <td>1.000000</td>\n",
       "      <td>1.000000</td>\n",
       "      <td>1.000000</td>\n",
       "      <td>1.000000</td>\n",
       "      <td>0.998508</td>\n",
       "    </tr>\n",
       "    <tr>\n",
       "      <td>38</td>\n",
       "      <td>4.858500</td>\n",
       "      <td>0.603144</td>\n",
       "      <td>0.760900</td>\n",
       "      <td>0.750618</td>\n",
       "      <td>0.705013</td>\n",
       "      <td>0.662647</td>\n",
       "      <td>1.000000</td>\n",
       "      <td>1.000000</td>\n",
       "      <td>1.000000</td>\n",
       "      <td>1.000000</td>\n",
       "      <td>0.998778</td>\n",
       "    </tr>\n",
       "    <tr>\n",
       "      <td>39</td>\n",
       "      <td>4.975300</td>\n",
       "      <td>6.141924</td>\n",
       "      <td>0.875058</td>\n",
       "      <td>0.884329</td>\n",
       "      <td>0.856797</td>\n",
       "      <td>0.856562</td>\n",
       "      <td>0.000000</td>\n",
       "      <td>0.000000</td>\n",
       "      <td>0.000000</td>\n",
       "      <td>0.000000</td>\n",
       "      <td>0.999000</td>\n",
       "    </tr>\n",
       "    <tr>\n",
       "      <td>40</td>\n",
       "      <td>4.553900</td>\n",
       "      <td>0.452249</td>\n",
       "      <td>0.840857</td>\n",
       "      <td>0.767664</td>\n",
       "      <td>0.778793</td>\n",
       "      <td>0.752658</td>\n",
       "      <td>1.000000</td>\n",
       "      <td>1.000000</td>\n",
       "      <td>1.000000</td>\n",
       "      <td>1.000000</td>\n",
       "      <td>0.999181</td>\n",
       "    </tr>\n",
       "    <tr>\n",
       "      <td>41</td>\n",
       "      <td>3.807600</td>\n",
       "      <td>0.490279</td>\n",
       "      <td>0.816823</td>\n",
       "      <td>0.834565</td>\n",
       "      <td>0.758971</td>\n",
       "      <td>0.740758</td>\n",
       "      <td>1.000000</td>\n",
       "      <td>1.000000</td>\n",
       "      <td>1.000000</td>\n",
       "      <td>1.000000</td>\n",
       "      <td>0.999329</td>\n",
       "    </tr>\n",
       "    <tr>\n",
       "      <td>42</td>\n",
       "      <td>3.574600</td>\n",
       "      <td>2.915800</td>\n",
       "      <td>0.144046</td>\n",
       "      <td>0.323955</td>\n",
       "      <td>0.235481</td>\n",
       "      <td>0.144752</td>\n",
       "      <td>1.000000</td>\n",
       "      <td>1.000000</td>\n",
       "      <td>1.000000</td>\n",
       "      <td>1.000000</td>\n",
       "      <td>0.999451</td>\n",
       "    </tr>\n",
       "    <tr>\n",
       "      <td>43</td>\n",
       "      <td>3.216300</td>\n",
       "      <td>1.164670</td>\n",
       "      <td>0.611924</td>\n",
       "      <td>0.677881</td>\n",
       "      <td>0.618456</td>\n",
       "      <td>0.576230</td>\n",
       "      <td>1.000000</td>\n",
       "      <td>1.000000</td>\n",
       "      <td>1.000000</td>\n",
       "      <td>1.000000</td>\n",
       "      <td>0.999550</td>\n",
       "    </tr>\n",
       "    <tr>\n",
       "      <td>44</td>\n",
       "      <td>2.705200</td>\n",
       "      <td>0.782400</td>\n",
       "      <td>0.813742</td>\n",
       "      <td>0.767406</td>\n",
       "      <td>0.760057</td>\n",
       "      <td>0.720278</td>\n",
       "      <td>1.000000</td>\n",
       "      <td>1.000000</td>\n",
       "      <td>1.000000</td>\n",
       "      <td>1.000000</td>\n",
       "      <td>0.999632</td>\n",
       "    </tr>\n",
       "    <tr>\n",
       "      <td>45</td>\n",
       "      <td>2.359100</td>\n",
       "      <td>0.676419</td>\n",
       "      <td>0.863965</td>\n",
       "      <td>0.872270</td>\n",
       "      <td>0.818635</td>\n",
       "      <td>0.806929</td>\n",
       "      <td>1.000000</td>\n",
       "      <td>1.000000</td>\n",
       "      <td>1.000000</td>\n",
       "      <td>1.000000</td>\n",
       "      <td>0.999699</td>\n",
       "    </tr>\n",
       "    <tr>\n",
       "      <td>46</td>\n",
       "      <td>2.003400</td>\n",
       "      <td>0.951154</td>\n",
       "      <td>0.879063</td>\n",
       "      <td>0.884369</td>\n",
       "      <td>0.868872</td>\n",
       "      <td>0.855478</td>\n",
       "      <td>0.804807</td>\n",
       "      <td>0.500000</td>\n",
       "      <td>0.402403</td>\n",
       "      <td>0.445924</td>\n",
       "      <td>0.999753</td>\n",
       "    </tr>\n",
       "    <tr>\n",
       "      <td>47</td>\n",
       "      <td>1.597900</td>\n",
       "      <td>6.638482</td>\n",
       "      <td>0.920043</td>\n",
       "      <td>0.905205</td>\n",
       "      <td>0.893031</td>\n",
       "      <td>0.893784</td>\n",
       "      <td>0.000000</td>\n",
       "      <td>0.000000</td>\n",
       "      <td>0.000000</td>\n",
       "      <td>0.000000</td>\n",
       "      <td>0.999798</td>\n",
       "    </tr>\n",
       "    <tr>\n",
       "      <td>48</td>\n",
       "      <td>1.238200</td>\n",
       "      <td>4.976320</td>\n",
       "      <td>0.896472</td>\n",
       "      <td>0.889656</td>\n",
       "      <td>0.867152</td>\n",
       "      <td>0.862878</td>\n",
       "      <td>0.000000</td>\n",
       "      <td>0.000000</td>\n",
       "      <td>0.000000</td>\n",
       "      <td>0.000000</td>\n",
       "      <td>0.999835</td>\n",
       "    </tr>\n",
       "    <tr>\n",
       "      <td>49</td>\n",
       "      <td>0.937900</td>\n",
       "      <td>1.483595</td>\n",
       "      <td>0.894161</td>\n",
       "      <td>0.883923</td>\n",
       "      <td>0.863969</td>\n",
       "      <td>0.860442</td>\n",
       "      <td>0.000000</td>\n",
       "      <td>0.000000</td>\n",
       "      <td>0.000000</td>\n",
       "      <td>0.000000</td>\n",
       "      <td>0.999865</td>\n",
       "    </tr>\n",
       "    <tr>\n",
       "      <td>50</td>\n",
       "      <td>1.078900</td>\n",
       "      <td>0.988217</td>\n",
       "      <td>0.900786</td>\n",
       "      <td>0.894298</td>\n",
       "      <td>0.876873</td>\n",
       "      <td>0.877214</td>\n",
       "      <td>0.705592</td>\n",
       "      <td>0.500000</td>\n",
       "      <td>0.352796</td>\n",
       "      <td>0.413693</td>\n",
       "      <td>0.999889</td>\n",
       "    </tr>\n",
       "  </tbody>\n",
       "</table><p>"
      ],
      "text/plain": [
       "<IPython.core.display.HTML object>"
      ]
     },
     "metadata": {},
     "output_type": "display_data"
    }
   ],
   "source": [
    "# Uncomment to train the model\n",
    "trainer = br.train_model(train_dataset=train_ds, eval_dataset= val_ds, model=model, output_dir= \"./D20_Experiment\", num_epochs=50, batch_size=32)\n",
    "trainer.save_model('branched_resnet_model_D20_v2_0807')"
   ]
  },
  {
   "cell_type": "code",
   "execution_count": null,
   "id": "6891c5dc",
   "metadata": {},
   "outputs": [],
   "source": []
  },
  {
   "cell_type": "code",
   "execution_count": 20,
   "id": "9ddee630",
   "metadata": {},
   "outputs": [],
   "source": [
    "# Uncomment to Load the model from checkpoint\n",
    "# from safetensors.torch import load_file\n",
    "\n",
    "# model_path = 'branched_resnet_v2_model_D20/model.safetensors'\n",
    "\n",
    "# state_dict = load_file(model_path)\n",
    "# model.load_state_dict(state_dict)\n",
    "\n",
    "# trainer = br.train_model(train_dataset=train_ds, eval_dataset= val_ds, model=model, output_dir= \"./D20_Experiment\", num_epochs=50, batch_size=32, train=False)"
   ]
  },
  {
   "cell_type": "code",
   "execution_count": 24,
   "id": "7a7108d8",
   "metadata": {},
   "outputs": [
    {
     "name": "stdout",
     "output_type": "stream",
     "text": [
      "Domain labels shape: (53334, 1)\n",
      "Expanded labels shape: (53334, 1)\n",
      "Domain labels shape: (35556, 1)\n",
      "Expanded labels shape: (35556, 1)\n"
     ]
    }
   ],
   "source": [
    "# Clear up memory\n",
    "train_data = None\n",
    "val_data = None\n",
    "train_ds = None\n",
    "test_ds1 = preprocess_data(test_data, distortions=[2, 3], save_data=True, save_path='datasets/D20_v2_processed_test_data1.npz')\n",
    "test_ds2 = preprocess_data(test_data, distortions=[2], save_data=True, save_path='datasets/D20_v2_processed_test_data2.npz')"
   ]
  },
  {
   "cell_type": "code",
   "execution_count": 25,
   "id": "fddea3f8",
   "metadata": {},
   "outputs": [
    {
     "name": "stdout",
     "output_type": "stream",
     "text": [
      "Domain labels shape: (17778, 1)\n",
      "Expanded labels shape: (17778, 1)\n"
     ]
    }
   ],
   "source": [
    "baseline = preprocess_data(test_data, distortions=[], save_data=True, save_path='datasets/D20_v2_processed_baseline.npz')"
   ]
  },
  {
   "cell_type": "code",
   "execution_count": 26,
   "id": "d075d44c",
   "metadata": {},
   "outputs": [
    {
     "data": {
      "text/html": [
       "\n",
       "    <div>\n",
       "      \n",
       "      <progress value='24449' max='2223' style='width:300px; height:20px; vertical-align: middle;'></progress>\n",
       "      [2223/2223 20:47]\n",
       "    </div>\n",
       "    "
      ],
      "text/plain": [
       "<IPython.core.display.HTML object>"
      ]
     },
     "metadata": {},
     "output_type": "display_data"
    },
    {
     "data": {
      "text/plain": [
       "{'eval_loss': 0.5699331164360046,\n",
       " 'eval_accuracy_branch1': 0.8309708628642142,\n",
       " 'eval_precision_branch1': 0.8314732071658967,\n",
       " 'eval_recall_branch1': 0.8114329511369401,\n",
       " 'eval_f1_branch1': 0.7955323183361387,\n",
       " 'eval_accuracy_branch2': 1.0,\n",
       " 'eval_precision_branch2': 1.0,\n",
       " 'eval_recall_branch2': 1.0,\n",
       " 'eval_f1_branch2': 1.0,\n",
       " 'eval_lambda': 0.9998891029505543,\n",
       " 'eval_runtime': 27.2676,\n",
       " 'eval_samples_per_second': 651.983,\n",
       " 'eval_steps_per_second': 81.525,\n",
       " 'epoch': 50.0}"
      ]
     },
     "execution_count": 26,
     "metadata": {},
     "output_type": "execute_result"
    }
   ],
   "source": [
    "# Undistorted only\n",
    "trainer.evaluate(baseline)"
   ]
  },
  {
   "cell_type": "code",
   "execution_count": null,
   "id": "24977e0c",
   "metadata": {},
   "outputs": [
    {
     "data": {
      "text/plain": [
       "{'eval_loss': 3.9435441493988037,\n",
       " 'eval_accuracy_branch1': 0.6658791765102936,\n",
       " 'eval_precision_branch1': 0.7568527037414916,\n",
       " 'eval_recall_branch1': 0.6154068751186954,\n",
       " 'eval_f1_branch1': 0.6337394254076444,\n",
       " 'eval_accuracy_branch2': 0.3333333333333333,\n",
       " 'eval_precision_branch2': 0.16666666666666666,\n",
       " 'eval_recall_branch2': 0.5,\n",
       " 'eval_f1_branch2': 0.25,\n",
       " 'eval_lambda': 0.9998891029505543,\n",
       " 'eval_runtime': 92.8103,\n",
       " 'eval_samples_per_second': 574.656,\n",
       " 'eval_steps_per_second': 71.835,\n",
       " 'epoch': 50.0}"
      ]
     },
     "execution_count": 27,
     "metadata": {},
     "output_type": "execute_result"
    }
   ],
   "source": [
    "# Uniform, Rotate distortion and undistorted\n",
    "trainer.evaluate(test_ds1)"
   ]
  },
  {
   "cell_type": "code",
   "execution_count": null,
   "id": "e9c424f3",
   "metadata": {},
   "outputs": [
    {
     "data": {
      "text/plain": [
       "{'eval_loss': 5.866508960723877,\n",
       " 'eval_accuracy_branch1': 0.5911238609517381,\n",
       " 'eval_precision_branch1': 0.7365668863427057,\n",
       " 'eval_recall_branch1': 0.5274228103316022,\n",
       " 'eval_f1_branch1': 0.5574039248309851,\n",
       " 'eval_accuracy_branch2': 0.5,\n",
       " 'eval_precision_branch2': 0.25,\n",
       " 'eval_recall_branch2': 0.5,\n",
       " 'eval_f1_branch2': 0.3333333333333333,\n",
       " 'eval_lambda': 0.9998891029505543,\n",
       " 'eval_runtime': 61.2294,\n",
       " 'eval_samples_per_second': 580.701,\n",
       " 'eval_steps_per_second': 72.596,\n",
       " 'epoch': 50.0}"
      ]
     },
     "execution_count": 28,
     "metadata": {},
     "output_type": "execute_result"
    }
   ],
   "source": [
    "# Undistorted and uniform noise\n",
    "trainer.evaluate(test_ds2)"
   ]
  },
  {
   "cell_type": "code",
   "execution_count": 29,
   "id": "6102847c",
   "metadata": {},
   "outputs": [
    {
     "name": "stdout",
     "output_type": "stream",
     "text": [
      "Domain labels shape: (35556, 1)\n",
      "Expanded labels shape: (35556, 1)\n",
      "Domain labels shape: (17778, 1)\n",
      "Expanded labels shape: (17778, 1)\n"
     ]
    }
   ],
   "source": [
    "test_ds3 = preprocess_data(test_data, distortions=[2, 3], include_original=False, save_data=True, save_path='datasets/D20_v2_processed_test_data3.npz')\n",
    "test_ds4 = preprocess_data(test_data, distortions=[2], include_original=False, save_data=True, save_path='datasets/D20_v2_processed_test_data4.npz')"
   ]
  },
  {
   "cell_type": "code",
   "execution_count": null,
   "id": "9dd747f6",
   "metadata": {},
   "outputs": [
    {
     "data": {
      "text/plain": [
       "{'eval_loss': 3.0971689224243164,\n",
       " 'eval_accuracy_branch1': 0.5833333333333334,\n",
       " 'eval_precision_branch1': 0.7288149298575395,\n",
       " 'eval_recall_branch1': 0.517393837109573,\n",
       " 'eval_f1_branch1': 0.5415078906645008,\n",
       " 'eval_accuracy_branch2': 0.0,\n",
       " 'eval_precision_branch2': 0.0,\n",
       " 'eval_recall_branch2': 0.0,\n",
       " 'eval_f1_branch2': 0.0,\n",
       " 'eval_lambda': 0.9998891029505543,\n",
       " 'eval_runtime': 156.4692,\n",
       " 'eval_samples_per_second': 227.24,\n",
       " 'eval_steps_per_second': 28.408,\n",
       " 'epoch': 50.0}"
      ]
     },
     "execution_count": 30,
     "metadata": {},
     "output_type": "execute_result"
    }
   ],
   "source": [
    "# Uniform noise and rotate distortion\n",
    "trainer.evaluate(test_ds3)"
   ]
  },
  {
   "cell_type": "code",
   "execution_count": null,
   "id": "31d96883",
   "metadata": {},
   "outputs": [
    {
     "data": {
      "text/plain": [
       "{'eval_loss': 3.5957043170928955,\n",
       " 'eval_accuracy_branch1': 0.35127685903926203,\n",
       " 'eval_precision_branch1': 0.2233424711617616,\n",
       " 'eval_recall_branch1': 0.2434126695262643,\n",
       " 'eval_f1_branch1': 0.1749148339038518,\n",
       " 'eval_accuracy_branch2': 0.0,\n",
       " 'eval_precision_branch2': 0.0,\n",
       " 'eval_recall_branch2': 0.0,\n",
       " 'eval_f1_branch2': 0.0,\n",
       " 'eval_lambda': 0.9998891029505543,\n",
       " 'eval_runtime': 29.2237,\n",
       " 'eval_samples_per_second': 608.342,\n",
       " 'eval_steps_per_second': 76.068,\n",
       " 'epoch': 50.0}"
      ]
     },
     "execution_count": 31,
     "metadata": {},
     "output_type": "execute_result"
    }
   ],
   "source": [
    "# Uniform noise\n",
    "trainer.evaluate(test_ds4)"
   ]
  },
  {
   "cell_type": "code",
   "execution_count": 32,
   "id": "5558660e",
   "metadata": {},
   "outputs": [
    {
     "name": "stdout",
     "output_type": "stream",
     "text": [
      "Domain labels shape: (17778, 1)\n",
      "Expanded labels shape: (17778, 1)\n"
     ]
    },
    {
     "data": {
      "text/plain": [
       "{'eval_loss': 2.5986340045928955,\n",
       " 'eval_accuracy_branch1': 0.8153898076274047,\n",
       " 'eval_precision_branch1': 0.8226051537439986,\n",
       " 'eval_recall_branch1': 0.7913750046928816,\n",
       " 'eval_f1_branch1': 0.7698344689556765,\n",
       " 'eval_accuracy_branch2': 0.0,\n",
       " 'eval_precision_branch2': 0.0,\n",
       " 'eval_recall_branch2': 0.0,\n",
       " 'eval_f1_branch2': 0.0,\n",
       " 'eval_lambda': 0.9998891029505543,\n",
       " 'eval_runtime': 29.7432,\n",
       " 'eval_samples_per_second': 597.716,\n",
       " 'eval_steps_per_second': 74.74,\n",
       " 'epoch': 50.0}"
      ]
     },
     "execution_count": 32,
     "metadata": {},
     "output_type": "execute_result"
    }
   ],
   "source": [
    "# Rotate distortion \n",
    "test_ds5 = preprocess_data(test_data, distortions=[3], include_original=False, save_data=True, save_path='datasets/D20_v2_processed_test_data5.npz')\n",
    "trainer.evaluate(test_ds5)"
   ]
  },
  {
   "cell_type": "code",
   "execution_count": 33,
   "id": "93d3e874",
   "metadata": {},
   "outputs": [],
   "source": [
    "def combine_npzs(data_dir):\n",
    "    combined_data = {}\n",
    "    order = ['first', 'second', 'third', 'fourth', 'fifth', 'sixth', 'seventh', 'eighth', 'ninth', 'tenth', 'last']\n",
    "    # Process files in the order specified by the 'order' list\n",
    "    for pos in order:\n",
    "        for filename in os.listdir(data_dir):\n",
    "            file_split = filename.split('_')\n",
    "            if pos in file_split and filename.endswith('.npz'):\n",
    "                print(f\"Processing file: {filename}\")\n",
    "                file_path = os.path.join(data_dir, filename)\n",
    "                data = np.load(file_path)\n",
    "                for key in data.files:\n",
    "                    if key in combined_data:\n",
    "                        combined_data[key] = np.concatenate((combined_data[key], data[key]), axis=0)\n",
    "                    else:\n",
    "                        combined_data[key] = data[key]\n",
    "    return combined_data\n",
    "\n",
    "def combine_data(orig_data, new_data):\n",
    "    combined_data = dict(orig_data)\n",
    "\n",
    "    combined_data['Ring_Artifact_v1'] = new_data['Ring_Artifact_v1']\n",
    "    combined_data['ring_labels'] = new_data['label']\n",
    "\n",
    "    return combined_data"
   ]
  },
  {
   "cell_type": "code",
   "execution_count": 34,
   "id": "9187e9dc",
   "metadata": {},
   "outputs": [
    {
     "name": "stdout",
     "output_type": "stream",
     "text": [
      "Processing file: test_subset_first_5000_RingArtifactv1_images.npz\n",
      "Processing file: test_subset_second_5000_RingArtifactv1_images.npz\n",
      "Processing file: test_subset_third_5000_RingArtifactv1_images.npz\n",
      "Processing file: test_subset_last_2778_RingArtifactv1_images.npz\n"
     ]
    }
   ],
   "source": [
    "# CT Ring distortion\n",
    "\n",
    "test_data = combine_npzs('ct-distortion/test')\n",
    "orig_test_data = np.load('datasets/test.npz')\n",
    "combined_test_data = combine_data(orig_test_data, test_data)"
   ]
  },
  {
   "cell_type": "code",
   "execution_count": 35,
   "id": "428163de",
   "metadata": {},
   "outputs": [
    {
     "data": {
      "text/plain": [
       "{'eval_loss': 2.645179033279419,\n",
       " 'eval_accuracy_branch1': 0.7421532230847114,\n",
       " 'eval_precision_branch1': 0.7261624466043838,\n",
       " 'eval_recall_branch1': 0.7051710897088456,\n",
       " 'eval_f1_branch1': 0.6771080368862996,\n",
       " 'eval_accuracy_branch2': 0.0,\n",
       " 'eval_precision_branch2': 0.0,\n",
       " 'eval_recall_branch2': 0.0,\n",
       " 'eval_f1_branch2': 0.0,\n",
       " 'eval_lambda': 0.9998891029505543,\n",
       " 'eval_runtime': 29.9647,\n",
       " 'eval_samples_per_second': 593.299,\n",
       " 'eval_steps_per_second': 74.187,\n",
       " 'epoch': 50.0}"
      ]
     },
     "execution_count": 35,
     "metadata": {},
     "output_type": "execute_result"
    }
   ],
   "source": [
    "# Ring Artifact only\n",
    "d6images = []\n",
    "for image in combined_test_data['Ring_Artifact_v1']:\n",
    "    d6images.append(normalize_image(image))\n",
    "\n",
    "d6labels = combined_test_data['ring_labels']\n",
    "d6domain_labels = np.ones_like(d6labels)\n",
    "\n",
    "np.savez_compressed('datasets/D20_v2_processed_test_data6.npz', images=d6images, labels1=d6labels, labels2=d6domain_labels)\n",
    "\n",
    "test_ds6 = br.CustomImageDataset(images=d6images, labels1=d6labels, labels2=d6domain_labels)\n",
    "\n",
    "trainer.evaluate(test_ds6)"
   ]
  }
 ],
 "metadata": {
  "kernelspec": {
   "display_name": "base",
   "language": "python",
   "name": "python3"
  },
  "language_info": {
   "codemirror_mode": {
    "name": "ipython",
    "version": 3
   },
   "file_extension": ".py",
   "mimetype": "text/x-python",
   "name": "python",
   "nbconvert_exporter": "python",
   "pygments_lexer": "ipython3",
   "version": "3.11.9"
  }
 },
 "nbformat": 4,
 "nbformat_minor": 5
}
