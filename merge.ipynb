{
 "cells": [
  {
   "cell_type": "markdown",
   "id": "a8c034f9",
   "metadata": {},
   "source": [
    "#### Merge some trainer state info"
   ]
  },
  {
   "cell_type": "code",
   "execution_count": 1,
   "id": "87e3c88d",
   "metadata": {},
   "outputs": [],
   "source": [
    "import os\n",
    "import pandas as pd\n",
    "import json"
   ]
  },
  {
   "cell_type": "code",
   "execution_count": 16,
   "id": "39d5dac8",
   "metadata": {},
   "outputs": [],
   "source": [
    "a_original_path = os.path.join('C10_model', 'results', 'checkpoint-324100', 'trainer_state.json')\n",
    "\n",
    "with open(a_original_path) as file:\n",
    "    info = json.load(file)\n",
    "    info = info[\"log_history\"]\n",
    "    df = pd.DataFrame(info)\n",
    "    df = df.groupby('epoch').first().reset_index()\n",
    "    df.to_csv('C10_val_original.csv', index=False)"
   ]
  },
  {
   "cell_type": "code",
   "execution_count": null,
   "id": "27131d86",
   "metadata": {},
   "outputs": [],
   "source": []
  }
 ],
 "metadata": {
  "kernelspec": {
   "display_name": "Python 3",
   "language": "python",
   "name": "python3"
  },
  "language_info": {
   "codemirror_mode": {
    "name": "ipython",
    "version": 3
   },
   "file_extension": ".py",
   "mimetype": "text/x-python",
   "name": "python",
   "nbconvert_exporter": "python",
   "pygments_lexer": "ipython3",
   "version": "3.13.5"
  }
 },
 "nbformat": 4,
 "nbformat_minor": 5
}
