{
 "cells": [
  {
   "cell_type": "markdown",
   "id": "06ebe0c6",
   "metadata": {},
   "source": [
    "D21:\n",
    "\n",
    "Train on:\n",
    "- 34k undistorted (treat as source distortion - d=0) - from the training set\n",
    "\n",
    "- 34k CT ring artifact (treat as target distortion - d=1) - from the training set\n",
    "\n",
    "Validate on:\n",
    "\n",
    "- 6k undistorted - from the new validation set (measure performance on both branches)\n",
    "\n",
    "Separately, also track:\n",
    "\n",
    "- 6k CT ring artifact - from the new validation set (measure performance on both branches)\n",
    "\n",
    "Test on:\n",
    "\n",
    "- 7k undistorted - from the new test set\n",
    "\n",
    "- 7k rotated 90 degrees - from the new test set\n",
    "\n",
    "- 7k uniform noise - from the new test set\n",
    "\n",
    "- 7k CT ring artifact - from the new test set\n",
    "\n",
    "With any additional time, please also test:\n",
    "\n",
    "- 34k undistorted - from the training set\n",
    "\n",
    "- 34k rotated 90 degrees - from the training set\n",
    "\n",
    "- 34k uniform noise - from the training set\n",
    "\n",
    "- 34k CT ring artifact - from the training set"
   ]
  },
  {
   "cell_type": "code",
   "execution_count": 1,
   "id": "fb960e32",
   "metadata": {},
   "outputs": [],
   "source": [
    "import pandas as pd\n",
    "import numpy as np\n",
    "import os\n",
    "\n",
    "data_dir = 'ct-distortion'\n",
    "\n",
    "for filename in os.listdir(data_dir):\n",
    "    if filename.endswith('.csv'):\n",
    "        temp_data = np.loadtxt(os.path.join(data_dir, filename), delimiter=',')"
   ]
  },
  {
   "cell_type": "code",
   "execution_count": 2,
   "id": "98c5dd45",
   "metadata": {},
   "outputs": [],
   "source": [
    "def combine_npzs(data_dir):\n",
    "    combined_data = {}\n",
    "    order = ['first', 'second', 'third', 'fourth', 'fifth', 'sixth', 'seventh', 'eighth', 'ninth', 'tenth', 'last']\n",
    "    # Process files in the order specified by the 'order' list\n",
    "    for pos in order:\n",
    "        for filename in os.listdir(data_dir):\n",
    "            file_split = filename.split('_')\n",
    "            if pos in file_split and filename.endswith('.npz'):\n",
    "                print(f\"Processing file: {filename}\")\n",
    "                file_path = os.path.join(data_dir, filename)\n",
    "                data = np.load(file_path)\n",
    "                for key in data.files:\n",
    "                    if key in combined_data:\n",
    "                        combined_data[key] = np.concatenate((combined_data[key], data[key]), axis=0)\n",
    "                    else:\n",
    "                        combined_data[key] = data[key]\n",
    "    return combined_data"
   ]
  },
  {
   "cell_type": "code",
   "execution_count": 3,
   "id": "937b4f69",
   "metadata": {},
   "outputs": [
    {
     "name": "stdout",
     "output_type": "stream",
     "text": [
      "Processing file: train_subset_first_5000_RingArtifactv1_images.npz\n",
      "Processing file: train_subset_second_5000_RingArtifactv1_images.npz\n",
      "Processing file: train_subset_third_5000_RingArtifactv1_images.npz\n",
      "Processing file: train_subset_fourth_5000_RingArtifactv1_images.npz\n",
      "Processing file: train_subset_fifth_5000_RingArtifactv1_images.npz\n",
      "Processing file: train_subset_sixth_5000_RingArtifactv1_images.npz\n",
      "Processing file: train_subset_last_4561_RingArtifactv1_images.npz\n",
      "Processing file: val_subset_first_5000_RingArtifactv1_images.npz\n",
      "Processing file: val_subset_last_1491_RingArtifactv1_images.npz\n",
      "Processing file: test_subset_first_5000_RingArtifactv1_images.npz\n",
      "Processing file: test_subset_second_5000_RingArtifactv1_images.npz\n",
      "Processing file: test_subset_third_5000_RingArtifactv1_images.npz\n",
      "Processing file: test_subset_last_2778_RingArtifactv1_images.npz\n"
     ]
    }
   ],
   "source": [
    "train_data = combine_npzs('ct-distortion/train')\n",
    "val_data = combine_npzs('ct-distortion/val')\n",
    "test_data = combine_npzs('ct-distortion/test')"
   ]
  },
  {
   "cell_type": "code",
   "execution_count": 4,
   "id": "eed47561",
   "metadata": {},
   "outputs": [
    {
     "data": {
      "text/plain": [
       "dict_keys(['original', 'label', 'Ring_Artifact_v1'])"
      ]
     },
     "execution_count": 4,
     "metadata": {},
     "output_type": "execute_result"
    }
   ],
   "source": [
    "train_data.keys()"
   ]
  },
  {
   "cell_type": "code",
   "execution_count": 5,
   "id": "918a3a40",
   "metadata": {},
   "outputs": [],
   "source": [
    "import os\n",
    "\n",
    "def import_data(directory, save_path=None, save=False):\n",
    "\n",
    "    data = []\n",
    "    for filename in os.listdir(directory):\n",
    "        if filename.endswith('.npz'):\n",
    "            file_path = os.path.join(directory, filename)\n",
    "            loaded_data = np.load(file_path)\n",
    "            data.append(loaded_data)\n",
    "\n",
    "    # concatenate the data from all files\n",
    "    all_data = {}\n",
    "    for key in data[0].keys():\n",
    "        all_data[key] = np.concatenate([d[key] for d in data], axis=0)\n",
    "\n",
    "    # check the shape of the concatenated data\n",
    "    for key, value in all_data.items():\n",
    "        print(f\"{key}: {value.shape}\")  \n",
    "\n",
    "    if save:\n",
    "        if save_path is None:\n",
    "            save_path = f'datasets/{directory}_concatenated_data.npz'\n",
    "        np.savez(save_path, **all_data)\n",
    "        print(f\"Data saved to {save_path}\")\n",
    "\n",
    "    return all_data"
   ]
  },
  {
   "cell_type": "code",
   "execution_count": 6,
   "id": "d0f1150b",
   "metadata": {},
   "outputs": [],
   "source": [
    "def combine_data(orig_data, new_data):\n",
    "    combined_data = dict(orig_data)\n",
    "\n",
    "    combined_data['Ring_Artifact_v1'] = new_data['Ring_Artifact_v1']\n",
    "    combined_data['ring_labels'] = new_data['label']\n",
    "\n",
    "    return combined_data\n"
   ]
  },
  {
   "cell_type": "code",
   "execution_count": 7,
   "id": "435f1bf6",
   "metadata": {},
   "outputs": [],
   "source": [
    "orig_train_data = np.load('datasets/training.npz')\n",
    "orig_val_data = np.load('datasets/validation.npz')\n",
    "orig_test_data = np.load('datasets/test.npz')\n",
    "\n",
    "combined_train_data = combine_data(orig_train_data, train_data)\n",
    "combined_val_data = combine_data(orig_val_data, val_data)\n",
    "combined_test_data = combine_data(orig_test_data, test_data)"
   ]
  },
  {
   "cell_type": "code",
   "execution_count": 8,
   "id": "0957d2d7",
   "metadata": {},
   "outputs": [],
   "source": [
    "# orig_data = np.load('datasets/training.npz')\n",
    "# print(orig_data.files)\n",
    "# print(len(orig_data['original']))"
   ]
  },
  {
   "cell_type": "code",
   "execution_count": 9,
   "id": "0f687175",
   "metadata": {},
   "outputs": [],
   "source": [
    "# data = dict(orig_data)\n",
    "\n",
    "# data['Ring_Artifact_v1'] = train_data['Ring_Artifact_v1']\n",
    "# data['ring_labels'] = train_data['label']\n",
    "\n",
    "# data.keys()"
   ]
  },
  {
   "cell_type": "code",
   "execution_count": 10,
   "id": "e22cd120",
   "metadata": {},
   "outputs": [],
   "source": [
    "def normalize_image(image, mean=0.5, std=0.5):\n",
    "    \"\"\"\n",
    "    Normalize an image tensor to have a mean and standard deviation.\n",
    "    \"\"\"\n",
    "    return (image - mean) / std\n",
    "\n",
    "def normalize_images(images, mean=0.5, std=0.5):\n",
    "    \"\"\"\n",
    "    Normalize a list of images.\n",
    "    \"\"\"\n",
    "    return [normalize_image(image, mean, std) for image in images]"
   ]
  },
  {
   "cell_type": "code",
   "execution_count": null,
   "id": "d2daf891",
   "metadata": {},
   "outputs": [],
   "source": [
    "from branched_resnet import CustomImageDataset\n",
    "\n",
    "# def preprocess_data(data, distortions, include_original=True):\n",
    "\n",
    "#     keys = list(data.keys())\n",
    "\n",
    "#     if 'Ring_Artifact_v1' in distortions:\n",
    "#         ring_flag = True\n",
    "#         distortions.remove('Ring_Artifact_v1')\n",
    "#     else:\n",
    "#         ring_flag = False\n",
    "\n",
    "#     if include_original:\n",
    "#         images = [data[keys[0]]]\n",
    "#     else:\n",
    "#         images = []\n",
    "\n",
    "#     for distortion in distortions:\n",
    "#         images.append(data[keys[distortion]])\n",
    "\n",
    "#     labels = data[keys[1]]\n",
    "#     ring_labels = data[keys[-1]]\n",
    "\n",
    "#     normalized_images = []\n",
    "#     for image in images:\n",
    "#         normalized_images.append(normalize_images(image))\n",
    "\n",
    "#     zero_labels = np.zeros_like(labels)\n",
    "#     one_labels = np.ones_like(labels)\n",
    "\n",
    "#     if include_original:\n",
    "#         domain_label_list = [zero_labels]\n",
    "#         expanded_label_list = [labels]\n",
    "#     else:\n",
    "#         domain_label_list = []\n",
    "#         expanded_label_list = []\n",
    "\n",
    "#     for _ in distortions:\n",
    "#         domain_label_list.append(one_labels)\n",
    "#         expanded_label_list.append(labels)\n",
    "\n",
    "#     domain_labels = np.concatenate(domain_label_list, axis=0)\n",
    "#     expanded_labels = np.concatenate(expanded_label_list, axis=0)\n",
    "\n",
    "#     print(f\"Domain labels shape: {domain_labels.shape}\")\n",
    "#     print(f\"Expanded labels shape: {expanded_labels.shape}\")\n",
    "\n",
    "#     concatenated_images = np.concatenate(normalized_images, axis=0)\n",
    "\n",
    "#     if ring_flag:\n",
    "#         ring_images = data['Ring_Artifact_v1']\n",
    "#         ring_labels = data['ring_labels']\n",
    "#         ring_images = normalize_images(ring_images)\n",
    "#         concatenated_images = np.concatenate((concatenated_images, ring_images), axis=0)\n",
    "#         domain_labels = np.concatenate((domain_labels, one_labels), axis=0)\n",
    "#         expanded_labels = np.concatenate((expanded_labels, ring_labels), axis=0)\n",
    "\n",
    "#     print(len(concatenated_images), len(expanded_labels), len(domain_labels))\n",
    "#     assert len(concatenated_images) == len(expanded_labels) == len(domain_labels), \"Dataset length mismatch!\"\n",
    "\n",
    "\n",
    "#     dataset = CustomImageDataset(images=concatenated_images, labels1=expanded_labels, labels2=domain_labels)\n",
    "\n",
    "#     return dataset\n",
    "\n",
    "# from branched_resnet import CustomImageDataset\n",
    "\n",
    "def preprocess_data(data, distortions, include_original=True):\n",
    "\n",
    "    keys = list(data.keys())\n",
    "\n",
    "    if 'Ring_Artifact_v1' in distortions:\n",
    "        ring_flag = True\n",
    "        distortions.remove('Ring_Artifact_v1')\n",
    "    else:\n",
    "        ring_flag = False\n",
    "\n",
    "    if include_original:\n",
    "        images = [data[keys[0]]]\n",
    "    else:\n",
    "        images = []\n",
    "\n",
    "    for distortion in distortions:\n",
    "        images.append(data[distortion])\n",
    "\n",
    "    labels = data[keys[1]]\n",
    "    ring_labels = data[keys[-1]]\n",
    "\n",
    "    normalized_images = []\n",
    "    for image in images:\n",
    "        normalized_images.append(normalize_images(image))\n",
    "\n",
    "    zero_labels = np.zeros_like(labels)\n",
    "    one_labels = np.ones_like(labels)\n",
    "\n",
    "    if include_original:\n",
    "        domain_label_list = [zero_labels]\n",
    "        expanded_label_list = [labels]\n",
    "    else:\n",
    "        domain_label_list = []\n",
    "        expanded_label_list = []\n",
    "\n",
    "    for _ in distortions:\n",
    "        domain_label_list.append(one_labels)\n",
    "        expanded_label_list.append(labels)\n",
    "\n",
    "    if domain_label_list != []:\n",
    "        domain_labels = np.concatenate(domain_label_list, axis=0)\n",
    "        \n",
    "    if expanded_label_list != []:\n",
    "        expanded_labels = np.concatenate(expanded_label_list, axis=0)\n",
    "\n",
    "    # print(f\"Domain labels shape: {domain_labels.shape}\")\n",
    "    # print(f\"Expanded labels shape: {expanded_labels.shape}\")\n",
    "\n",
    "    # if ring_flag and distortions == []:\n",
    "    #     if include_original == False:\n",
    "    #         # Empty npy array for concatenation\n",
    "    #         concatenated_images = np.empty((0,) + (224, 224), dtype=float)\n",
    "    #         domain_labels = np.empty((0,), dtype=int)\n",
    "    #         expanded_labels = np.empty((0,), dtype=int)\n",
    "    #     else:\n",
    "    #         concatenated_images = np.concatenate(normalized_images, axis=0)\n",
    "    # else:\n",
    "    #     concatenated_images = np.concatenate(normalized_images, axis=0)\n",
    "\n",
    "    if ring_flag:\n",
    "        ring_images = data['Ring_Artifact_v1']\n",
    "        ring_labels = data['ring_labels']\n",
    "        ring_images = normalize_images(ring_images)\n",
    "        concatenated_images = np.concatenate((concatenated_images, ring_images), axis=0)\n",
    "        domain_labels = np.concatenate((domain_labels, one_labels), axis=0)\n",
    "        expanded_labels = np.concatenate((expanded_labels, ring_labels), axis=0)\n",
    "\n",
    "\n",
    "    print(len(concatenated_images), len(expanded_labels), len(domain_labels))\n",
    "    assert len(concatenated_images) == len(expanded_labels) == len(domain_labels), \"Dataset length mismatch!\"\n",
    "\n",
    "    # Shuffle the concatenated images and labels\n",
    "    seed = 42\n",
    "    np.random.seed(seed)\n",
    "    shuffled_indices = np.random.permutation(len(concatenated_images))\n",
    "    concatenated_images = concatenated_images[shuffled_indices]\n",
    "    expanded_labels = expanded_labels[shuffled_indices]\n",
    "    domain_labels = domain_labels[shuffled_indices]\n",
    "\n",
    "    dataset = CustomImageDataset(images=concatenated_images, labels1=expanded_labels, labels2=domain_labels)\n",
    "\n",
    "    return dataset"
   ]
  },
  {
   "cell_type": "code",
   "execution_count": 28,
   "id": "be9b9b89",
   "metadata": {},
   "outputs": [
    {
     "name": "stdout",
     "output_type": "stream",
     "text": [
      "69122 69122 69122\n",
      "12982 12982 12982\n"
     ]
    }
   ],
   "source": [
    "train_ds = preprocess_data(combined_train_data, distortions=['Ring_Artifact_v1'], include_original=True)\n",
    "val_ds = preprocess_data(combined_val_data, distortions=['Ring_Artifact_v1'], include_original=True)"
   ]
  },
  {
   "cell_type": "code",
   "execution_count": 29,
   "id": "0193d1b7",
   "metadata": {},
   "outputs": [
    {
     "name": "stdout",
     "output_type": "stream",
     "text": [
      "resnet.embedder.embedder.convolution.weight tensor(0.0005) True\n"
     ]
    }
   ],
   "source": [
    "import branched_resnet as br \n",
    "from branched_resnet import CustomImageDataset\n",
    "from transformers import Trainer, TrainingArguments, PreTrainedModel, ResNetConfig\n",
    "\n",
    "config = ResNetConfig()\n",
    "model = br.ResNetForMultiLabel(config=config, num_d1_classes=11, num_d2_classes=2)\n",
    "\n",
    "for name, param in model.named_parameters():\n",
    "    print(name, param.data.mean(), param.requires_grad)\n",
    "    break"
   ]
  },
  {
   "cell_type": "code",
   "execution_count": null,
   "id": "b74b0e09",
   "metadata": {},
   "outputs": [],
   "source": [
    "# Uncomment to train the model\n",
    "trainer = br.train_model(train_dataset=train_ds, eval_dataset= val_ds, model=model, output_dir= \"./D21_Experiment\", num_epochs=50, batch_size=32, train=True)"
   ]
  },
  {
   "cell_type": "code",
   "execution_count": null,
   "id": "4fbca117",
   "metadata": {},
   "outputs": [],
   "source": [
    "# from branched_resnet import CustomImageDataset\n",
    "\n",
    "# def preprocess_data(data, distortions, include_original=True):\n",
    "\n",
    "#     keys = list(data.keys())\n",
    "\n",
    "#     if 'Ring_Artifact_v1' in distortions:\n",
    "#         ring_flag = True\n",
    "#         distortions.remove('Ring_Artifact_v1')\n",
    "#     else:\n",
    "#         ring_flag = False\n",
    "\n",
    "#     if include_original:\n",
    "#         images = [data[keys[0]]]\n",
    "#     else:\n",
    "#         images = []\n",
    "\n",
    "#     for distortion in distortions:\n",
    "#         images.append(data[distortion])\n",
    "\n",
    "#     labels = data[keys[1]]\n",
    "#     ring_labels = data[keys[-1]]\n",
    "\n",
    "#     normalized_images = []\n",
    "#     for image in images:\n",
    "#         normalized_images.append(normalize_images(image))\n",
    "\n",
    "#     zero_labels = np.zeros_like(labels)\n",
    "#     one_labels = np.ones_like(labels)\n",
    "\n",
    "#     if include_original:\n",
    "#         domain_label_list = [zero_labels]\n",
    "#         expanded_label_list = [labels]\n",
    "#     else:\n",
    "#         domain_label_list = []\n",
    "#         expanded_label_list = []\n",
    "\n",
    "#     for _ in distortions:\n",
    "#         domain_label_list.append(one_labels)\n",
    "#         expanded_label_list.append(labels)\n",
    "\n",
    "#     if domain_label_list != []:\n",
    "#         domain_labels = np.concatenate(domain_label_list, axis=0)\n",
    "        \n",
    "#     expanded_labels = np.concatenate(expanded_label_list, axis=0)\n",
    "\n",
    "#     print(f\"Domain labels shape: {domain_labels.shape}\")\n",
    "#     print(f\"Expanded labels shape: {expanded_labels.shape}\")\n",
    "\n",
    "#     concatenated_images = np.concatenate(normalized_images, axis=0)\n",
    "\n",
    "#     if ring_flag:\n",
    "#         ring_images = data['Ring_Artifact_v1']\n",
    "#         ring_labels = data['ring_labels']\n",
    "#         ring_images = normalize_images(ring_images)\n",
    "#         concatenated_images = np.concatenate((concatenated_images, ring_images), axis=0)\n",
    "#         domain_labels = np.concatenate((domain_labels, one_labels), axis=0)\n",
    "#         expanded_labels = np.concatenate((expanded_labels, ring_labels), axis=0)\n",
    "\n",
    "#     print(len(concatenated_images), len(expanded_labels), len(domain_labels))\n",
    "#     assert len(concatenated_images) == len(expanded_labels) == len(domain_labels), \"Dataset length mismatch!\"\n",
    "\n",
    "\n",
    "#     dataset = CustomImageDataset(images=concatenated_images, labels1=expanded_labels, labels2=domain_labels)\n",
    "\n",
    "#     return dataset"
   ]
  },
  {
   "cell_type": "code",
   "execution_count": null,
   "id": "80825cfc",
   "metadata": {},
   "outputs": [
    {
     "name": "stderr",
     "output_type": "stream",
     "text": [
      "C:\\Users\\samue\\AppData\\Roaming\\Python\\Python311\\site-packages\\transformers\\training_args.py:1594: FutureWarning: `evaluation_strategy` is deprecated and will be removed in version 4.46 of 🤗 Transformers. Use `eval_strategy` instead\n",
      "  warnings.warn(\n"
     ]
    }
   ],
   "source": [
    "# Load the model from the saved checkpoint\n",
    "# from safetensors.torch import load_file\n",
    "\n",
    "# model_path = './D21_Experiment_0801/checkpoint-108050/model.safetensors'\n",
    "\n",
    "# state_dict = load_file(model_path)\n",
    "# model.load_state_dict(state_dict)\n",
    "\n",
    "# trainer = br.train_model(train_dataset=train_ds, eval_dataset= val_ds, model=model, output_dir= \"./D20_Experiment\", num_epochs=50, batch_size=32, train=False)"
   ]
  },
  {
   "cell_type": "code",
   "execution_count": 31,
   "id": "7298f60d",
   "metadata": {},
   "outputs": [
    {
     "name": "stdout",
     "output_type": "stream",
     "text": [
      "Processing file: test_subset_first_5000_RingArtifactv1_images.npz\n",
      "Processing file: test_subset_second_5000_RingArtifactv1_images.npz\n",
      "Processing file: test_subset_third_5000_RingArtifactv1_images.npz\n",
      "Processing file: test_subset_last_2778_RingArtifactv1_images.npz\n",
      "dict_keys(['original', 'label', 'Uniform_Noise', 'Rotate_90deg', 'Ring_Artifact_v1', 'ring_labels'])\n"
     ]
    }
   ],
   "source": [
    "# Clear up memory\n",
    "combined_train_data = None\n",
    "combined_val_data = None\n",
    "train_ds = None\n",
    "val_ds = None\n",
    "\n",
    "test_data = combine_npzs('ct-distortion/test')\n",
    "orig_test_data = np.load('datasets/test.npz')\n",
    "combined_test_data = combine_data(orig_test_data, test_data)\n",
    "\n",
    "print(combined_test_data.keys())\n"
   ]
  },
  {
   "cell_type": "code",
   "execution_count": null,
   "id": "fe264173",
   "metadata": {},
   "outputs": [
    {
     "name": "stdout",
     "output_type": "stream",
     "text": [
      "Domain labels shape: (17778, 1)\n",
      "Expanded labels shape: (17778, 1)\n",
      "17778 17778 17778\n"
     ]
    },
    {
     "data": {
      "text/plain": [
       "{'eval_loss': 0.13260479271411896,\n",
       " 'eval_model_preparation_time': 0.005,\n",
       " 'eval_accuracy_branch1': 0.9655191810102374,\n",
       " 'eval_precision_branch1': 0.9635336002766532,\n",
       " 'eval_recall_branch1': 0.9588807434978147,\n",
       " 'eval_f1_branch1': 0.9607240512411571,\n",
       " 'eval_accuracy_branch2': 0.47013162335470804,\n",
       " 'eval_precision_branch2': 0.5,\n",
       " 'eval_recall_branch2': 0.23506581167735402,\n",
       " 'eval_f1_branch2': 0.31978879706152435,\n",
       " 'eval_runtime': 31.6768,\n",
       " 'eval_samples_per_second': 561.231,\n",
       " 'eval_steps_per_second': 70.178}"
      ]
     },
     "execution_count": 20,
     "metadata": {},
     "output_type": "execute_result"
    }
   ],
   "source": [
    "# Undistorted\n",
    "baseline = preprocess_data(combined_test_data, distortions=[], include_original=True)\n",
    "trainer.evaluate(baseline)\n",
    "#baseline = None"
   ]
  },
  {
   "cell_type": "code",
   "execution_count": null,
   "id": "2d2c1eb6",
   "metadata": {},
   "outputs": [
    {
     "name": "stdout",
     "output_type": "stream",
     "text": [
      "Domain labels shape: (53334, 1)\n",
      "Expanded labels shape: (53334, 1)\n",
      "71112 71112 71112\n"
     ]
    },
    {
     "data": {
      "text/plain": [
       "{'eval_loss': 0.0331798680126667,\n",
       " 'eval_model_preparation_time': 0.005,\n",
       " 'eval_accuracy_branch1': 0.7816121048486894,\n",
       " 'eval_precision_branch1': 0.7857890939395983,\n",
       " 'eval_recall_branch1': 0.7728506095613782,\n",
       " 'eval_f1_branch1': 0.776401121742958,\n",
       " 'eval_accuracy_branch2': 0.4874985937675779,\n",
       " 'eval_precision_branch2': 0.4862818779635574,\n",
       " 'eval_recall_branch2': 0.48170960362995463,\n",
       " 'eval_f1_branch2': 0.4526181586742759,\n",
       " 'eval_runtime': 126.8752,\n",
       " 'eval_samples_per_second': 560.488,\n",
       " 'eval_steps_per_second': 70.061}"
      ]
     },
     "execution_count": 21,
     "metadata": {},
     "output_type": "execute_result"
    }
   ],
   "source": [
    "# All available images and distortions\n",
    "test_ds1 = preprocess_data(combined_test_data, distortions=['Uniform_Noise', 'Rotate_90deg', 'Ring_Artifact_v1'], include_original=True)\n",
    "trainer.evaluate(test_ds1)\n",
    "#test_ds1 = None"
   ]
  },
  {
   "cell_type": "code",
   "execution_count": null,
   "id": "600c28a0",
   "metadata": {},
   "outputs": [
    {
     "name": "stdout",
     "output_type": "stream",
     "text": [
      "Domain labels shape: (35556, 1)\n",
      "Expanded labels shape: (35556, 1)\n",
      "35556 35556 35556\n"
     ]
    },
    {
     "data": {
      "text/plain": [
       "{'eval_loss': 0.0,\n",
       " 'eval_model_preparation_time': 0.005,\n",
       " 'eval_accuracy_branch1': 0.5984643941950726,\n",
       " 'eval_precision_branch1': 0.6192614654873654,\n",
       " 'eval_recall_branch1': 0.5880634768560274,\n",
       " 'eval_f1_branch1': 0.5940642440759605,\n",
       " 'eval_accuracy_branch2': 0.4751096861289234,\n",
       " 'eval_precision_branch2': 0.5,\n",
       " 'eval_recall_branch2': 0.2375548430644617,\n",
       " 'eval_f1_branch2': 0.32208431047303093,\n",
       " 'eval_runtime': 59.3141,\n",
       " 'eval_samples_per_second': 599.453,\n",
       " 'eval_steps_per_second': 74.94}"
      ]
     },
     "execution_count": 22,
     "metadata": {},
     "output_type": "execute_result"
    }
   ],
   "source": [
    "# Uniform Noise and Rotate 90 degrees, no undistorted \n",
    "test_ds2 = preprocess_data(combined_test_data, distortions=['Uniform_Noise', 'Rotate_90deg'], include_original=False)\n",
    "trainer.evaluate(test_ds2)\n",
    "#test_ds2 = None"
   ]
  },
  {
   "cell_type": "code",
   "execution_count": null,
   "id": "f2be7ee4",
   "metadata": {},
   "outputs": [
    {
     "data": {
      "text/plain": [
       "{'eval_loss': 0.0,\n",
       " 'eval_model_preparation_time': 0.0056,\n",
       " 'eval_accuracy_branch1': 0.9640004499943751,\n",
       " 'eval_precision_branch1': 0.9619952781884255,\n",
       " 'eval_recall_branch1': 0.9563947410356438,\n",
       " 'eval_f1_branch1': 0.958774862716702,\n",
       " 'eval_accuracy_branch2': 0.5296433794577567,\n",
       " 'eval_precision_branch2': 0.5,\n",
       " 'eval_recall_branch2': 0.2648216897288784,\n",
       " 'eval_f1_branch2': 0.3462528498933588,\n",
       " 'eval_runtime': 27.9197,\n",
       " 'eval_samples_per_second': 636.754,\n",
       " 'eval_steps_per_second': 79.621}"
      ]
     },
     "execution_count": 37,
     "metadata": {},
     "output_type": "execute_result"
    }
   ],
   "source": [
    "# Ring Artifact only\n",
    "d3images = []\n",
    "for image in combined_test_data['Ring_Artifact_v1']:\n",
    "    d3images.append(normalize_image(image))\n",
    "\n",
    "d3labels = combined_test_data['ring_labels']\n",
    "d3domain_labels = np.ones_like(d3labels)\n",
    "test_ds3 = br.CustomImageDataset(images=d3images, labels1=d3labels, labels2=d3domain_labels)\n",
    "\n",
    "trainer.evaluate(test_ds3)\n"
   ]
  },
  {
   "cell_type": "code",
   "execution_count": null,
   "id": "1d50e0e0",
   "metadata": {},
   "outputs": [
    {
     "name": "stdout",
     "output_type": "stream",
     "text": [
      "17778 17778 17778\n"
     ]
    },
    {
     "data": {
      "text/plain": [
       "{'eval_loss': 0.0,\n",
       " 'eval_model_preparation_time': 0.0056,\n",
       " 'eval_accuracy_branch1': 0.7901901226234672,\n",
       " 'eval_precision_branch1': 0.8445835236369393,\n",
       " 'eval_recall_branch1': 0.7784693650722848,\n",
       " 'eval_f1_branch1': 0.7892261792566025,\n",
       " 'eval_accuracy_branch2': 0.4440881988975138,\n",
       " 'eval_precision_branch2': 0.5,\n",
       " 'eval_recall_branch2': 0.2220440994487569,\n",
       " 'eval_f1_branch2': 0.30752152066373234,\n",
       " 'eval_runtime': 28.8307,\n",
       " 'eval_samples_per_second': 616.635,\n",
       " 'eval_steps_per_second': 77.105}"
      ]
     },
     "execution_count": 34,
     "metadata": {},
     "output_type": "execute_result"
    }
   ],
   "source": [
    "# Uniform Noise only\n",
    "test_ds4 = preprocess_data(combined_test_data, distortions=['Uniform_Noise'], include_original=False)\n",
    "trainer.evaluate(test_ds4)\n",
    "#test_ds4 = None"
   ]
  },
  {
   "cell_type": "code",
   "execution_count": null,
   "id": "5b0bb188",
   "metadata": {},
   "outputs": [
    {
     "name": "stdout",
     "output_type": "stream",
     "text": [
      "17778 17778 17778\n"
     ]
    },
    {
     "data": {
      "text/plain": [
       "{'eval_loss': 0.0,\n",
       " 'eval_model_preparation_time': 0.0056,\n",
       " 'eval_accuracy_branch1': 0.40673866576667794,\n",
       " 'eval_precision_branch1': 0.40807267046597073,\n",
       " 'eval_recall_branch1': 0.39765758863976985,\n",
       " 'eval_f1_branch1': 0.3888983603711902,\n",
       " 'eval_accuracy_branch2': 0.506131173360333,\n",
       " 'eval_precision_branch2': 0.5,\n",
       " 'eval_recall_branch2': 0.2530655866801665,\n",
       " 'eval_f1_branch2': 0.33604720645354047,\n",
       " 'eval_runtime': 29.2435,\n",
       " 'eval_samples_per_second': 607.93,\n",
       " 'eval_steps_per_second': 76.017}"
      ]
     },
     "execution_count": 35,
     "metadata": {},
     "output_type": "execute_result"
    }
   ],
   "source": [
    "# Rotate 90 degrees only\n",
    "test_ds5 = preprocess_data(combined_test_data, distortions=['Rotate_90deg'], include_original=False)\n",
    "trainer.evaluate(test_ds5)\n",
    "#test_ds5 = None"
   ]
  }
 ],
 "metadata": {
  "kernelspec": {
   "display_name": "base",
   "language": "python",
   "name": "python3"
  },
  "language_info": {
   "codemirror_mode": {
    "name": "ipython",
    "version": 3
   },
   "file_extension": ".py",
   "mimetype": "text/x-python",
   "name": "python",
   "nbconvert_exporter": "python",
   "pygments_lexer": "ipython3",
   "version": "3.11.9"
  }
 },
 "nbformat": 4,
 "nbformat_minor": 5
}
