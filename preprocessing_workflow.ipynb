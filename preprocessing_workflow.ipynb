{
 "cells": [
  {
   "cell_type": "code",
   "execution_count": 1,
   "id": "956e72c4",
   "metadata": {},
   "outputs": [
    {
     "name": "stdout",
     "output_type": "stream",
     "text": [
      "WARNING:tensorflow:From C:\\Users\\samue\\AppData\\Roaming\\Python\\Python311\\site-packages\\keras\\src\\losses.py:2976: The name tf.losses.sparse_softmax_cross_entropy is deprecated. Please use tf.compat.v1.losses.sparse_softmax_cross_entropy instead.\n",
      "\n"
     ]
    }
   ],
   "source": [
    "from preprocessing import preprocess_data, import_data, combine_npzs, combine_data\n",
    "import numpy as np\n",
    "\n",
    "train_data = np.load(\"data/train.npz\")\n",
    "val_data = np.load(\"data/validation.npz\")\n",
    "test_data = np.load(\"data/test.npz\")"
   ]
  },
  {
   "cell_type": "code",
   "execution_count": 2,
   "id": "90920de6",
   "metadata": {},
   "outputs": [
    {
     "data": {
      "text/plain": [
       "{'_files': ['original.npy',\n",
       "  'label.npy',\n",
       "  'Uniform_Noise.npy',\n",
       "  'Rotate_90deg.npy'],\n",
       " 'files': ['original', 'label', 'Uniform_Noise', 'Rotate_90deg'],\n",
       " 'allow_pickle': False,\n",
       " 'max_header_size': 10000,\n",
       " 'pickle_kwargs': {'encoding': 'ASCII', 'fix_imports': True},\n",
       " 'zip': <zipfile.ZipFile file=<_io.BufferedReader name='data/train.npz'> mode='r'>,\n",
       " 'f': <numpy.lib.npyio.BagObj at 0x16a580032d0>,\n",
       " 'fid': <_io.BufferedReader name='data/train.npz'>}"
      ]
     },
     "execution_count": 2,
     "metadata": {},
     "output_type": "execute_result"
    }
   ],
   "source": [
    "vars(train_data)"
   ]
  },
  {
   "cell_type": "code",
   "execution_count": 3,
   "id": "9da40ff1",
   "metadata": {},
   "outputs": [
    {
     "name": "stdout",
     "output_type": "stream",
     "text": [
      "Processing file: train_subset_first_5000_RingArtifactv1_images.npz\n",
      "Processing file: train_subset_second_5000_RingArtifactv1_images.npz\n",
      "Processing file: train_subset_third_5000_RingArtifactv1_images.npz\n",
      "Processing file: train_subset_fourth_5000_RingArtifactv1_images.npz\n",
      "Processing file: train_subset_fifth_5000_RingArtifactv1_images.npz\n",
      "Processing file: train_subset_sixth_5000_RingArtifactv1_images.npz\n",
      "Processing file: train_subset_last_4561_RingArtifactv1_images.npz\n",
      "Processing file: val_subset_first_5000_RingArtifactv1_images.npz\n",
      "Processing file: val_subset_last_1491_RingArtifactv1_images.npz\n",
      "Processing file: test_subset_first_5000_RingArtifactv1_images.npz\n",
      "Processing file: test_subset_second_5000_RingArtifactv1_images.npz\n",
      "Processing file: test_subset_third_5000_RingArtifactv1_images.npz\n",
      "Processing file: test_subset_last_2778_RingArtifactv1_images.npz\n"
     ]
    }
   ],
   "source": [
    "from preprocessing import preprocess_data, import_data, combine_npzs\n",
    "ring_v2_train = combine_npzs(\"data/ringv2/train\")\n",
    "ring_v2_val = combine_npzs(\"data/ringv2/val\")\n",
    "ring_v2_test = combine_npzs(\"data/ringv2/test\")"
   ]
  },
  {
   "cell_type": "code",
   "execution_count": 4,
   "id": "368425c4",
   "metadata": {},
   "outputs": [
    {
     "data": {
      "text/plain": [
       "dict_keys(['original', 'label', 'Ring_Artifact_v1'])"
      ]
     },
     "execution_count": 4,
     "metadata": {},
     "output_type": "execute_result"
    }
   ],
   "source": [
    "ring_v2_train.keys()"
   ]
  },
  {
   "cell_type": "code",
   "execution_count": 5,
   "id": "4fba59f6",
   "metadata": {},
   "outputs": [],
   "source": [
    "combined_train = combine_data(train_data, ring_v2_train)\n",
    "combined_val = combine_data(val_data, ring_v2_val)\n",
    "combined_test = combine_data(test_data, ring_v2_test)"
   ]
  },
  {
   "cell_type": "code",
   "execution_count": null,
   "id": "046bd790",
   "metadata": {},
   "outputs": [
    {
     "name": "stdout",
     "output_type": "stream",
     "text": [
      "69122 69122 69122\n"
     ]
    },
    {
     "ename": "KeyError",
     "evalue": "''",
     "output_type": "error",
     "traceback": [
      "\u001b[1;31m---------------------------------------------------------------------------\u001b[0m",
      "\u001b[1;31mKeyError\u001b[0m                                  Traceback (most recent call last)",
      "Cell \u001b[1;32mIn[6], line 2\u001b[0m\n\u001b[0;32m      1\u001b[0m train_ds \u001b[38;5;241m=\u001b[39m preprocess_data(combined_train, distortions\u001b[38;5;241m=\u001b[39m[\u001b[38;5;124m'\u001b[39m\u001b[38;5;124mRotate_90deg\u001b[39m\u001b[38;5;124m'\u001b[39m], include_original\u001b[38;5;241m=\u001b[39m\u001b[38;5;28;01mTrue\u001b[39;00m, save_data\u001b[38;5;241m=\u001b[39m\u001b[38;5;28;01mTrue\u001b[39;00m, save_path\u001b[38;5;241m=\u001b[39m\u001b[38;5;124m\"\u001b[39m\u001b[38;5;124mdata/D20_preprocessed_train_v2.npz\u001b[39m\u001b[38;5;124m\"\u001b[39m)\n\u001b[1;32m----> 2\u001b[0m val_ds \u001b[38;5;241m=\u001b[39m \u001b[43mpreprocess_data\u001b[49m\u001b[43m(\u001b[49m\u001b[43mcombined_val\u001b[49m\u001b[43m,\u001b[49m\u001b[43m \u001b[49m\u001b[43mdistortions\u001b[49m\u001b[38;5;241;43m=\u001b[39;49m\u001b[43m[\u001b[49m\u001b[38;5;124;43m'\u001b[39;49m\u001b[38;5;124;43m'\u001b[39;49m\u001b[43m]\u001b[49m\u001b[43m,\u001b[49m\u001b[43m \u001b[49m\u001b[43minclude_original\u001b[49m\u001b[38;5;241;43m=\u001b[39;49m\u001b[38;5;28;43;01mTrue\u001b[39;49;00m\u001b[43m,\u001b[49m\u001b[43m \u001b[49m\u001b[43msave_data\u001b[49m\u001b[38;5;241;43m=\u001b[39;49m\u001b[38;5;28;43;01mTrue\u001b[39;49;00m\u001b[43m,\u001b[49m\u001b[43m \u001b[49m\u001b[43msave_path\u001b[49m\u001b[38;5;241;43m=\u001b[39;49m\u001b[38;5;124;43m\"\u001b[39;49m\u001b[38;5;124;43mdata/D20_preprocessed_val_v2.npz\u001b[39;49m\u001b[38;5;124;43m\"\u001b[39;49m\u001b[43m)\u001b[49m\n",
      "File \u001b[1;32mc:\\Users\\samue\\Capstone_Project\\domain-generalization-ct\\domain-generalization-ct\\preprocessing.py:94\u001b[0m, in \u001b[0;36mpreprocess_data\u001b[1;34m(data, distortions, include_original, save_data, save_path)\u001b[0m\n\u001b[0;32m     91\u001b[0m     images \u001b[38;5;241m=\u001b[39m []\n\u001b[0;32m     93\u001b[0m \u001b[38;5;28;01mfor\u001b[39;00m distortion \u001b[38;5;129;01min\u001b[39;00m distortions:\n\u001b[1;32m---> 94\u001b[0m     images\u001b[38;5;241m.\u001b[39mappend(\u001b[43mdata\u001b[49m\u001b[43m[\u001b[49m\u001b[43mdistortion\u001b[49m\u001b[43m]\u001b[49m)\n\u001b[0;32m     96\u001b[0m labels \u001b[38;5;241m=\u001b[39m data[keys[\u001b[38;5;241m1\u001b[39m]]\n\u001b[0;32m     97\u001b[0m ring_labels \u001b[38;5;241m=\u001b[39m data[keys[\u001b[38;5;241m-\u001b[39m\u001b[38;5;241m1\u001b[39m]]\n",
      "\u001b[1;31mKeyError\u001b[0m: ''"
     ]
    }
   ],
   "source": [
    "train_ds = preprocess_data(combined_train, distortions=['Rotate_90deg'], include_original=True, save_data=True, save_path=\"data/D20_preprocessed_train_v2.npz\")\n",
    "\n",
    "\n"
   ]
  },
  {
   "cell_type": "code",
   "execution_count": 7,
   "id": "333a8c34",
   "metadata": {},
   "outputs": [
    {
     "name": "stdout",
     "output_type": "stream",
     "text": [
      "6491 6491 6491\n"
     ]
    }
   ],
   "source": [
    "val_ds = preprocess_data(combined_val, distortions=[], include_original=True, save_data=True, save_path=\"data/D20_preprocessed_val_v2.npz\")"
   ]
  },
  {
   "cell_type": "code",
   "execution_count": null,
   "id": "0eeeaa48",
   "metadata": {},
   "outputs": [
    {
     "name": "stdout",
     "output_type": "stream",
     "text": [
      "17778 17778 17778\n"
     ]
    }
   ],
   "source": [
    "# Baseline\n",
    "test_ds = preprocess_data(combined_test, distortions=[], include_original=True, save_data=True, save_path=\"data/D20_preprocessed_undistorted_test_v2.npz\")"
   ]
  },
  {
   "cell_type": "code",
   "execution_count": null,
   "id": "2960f60b",
   "metadata": {},
   "outputs": [
    {
     "name": "stdout",
     "output_type": "stream",
     "text": [
      "71112 71112 71112\n"
     ]
    }
   ],
   "source": [
    "test_ds1 = preprocess_data(combined_test, distortions=['Uniform_Noise', 'Rotate_90deg', 'Ring_Artifact_v1'], include_original=True, save_data=True, save_path=\"data/D20_preprocessed_all_distortions_test_v2.npz\")"
   ]
  },
  {
   "cell_type": "code",
   "execution_count": null,
   "id": "64f431e2",
   "metadata": {},
   "outputs": [
    {
     "name": "stdout",
     "output_type": "stream",
     "text": [
      "53334 53334 53334\n"
     ]
    }
   ],
   "source": [
    "test_ds2 = preprocess_data(combined_test, distortions=['Uniform_Noise', 'Rotate_90deg'], include_original=True, save_data=True, save_path=\"data/D20_preprocessed_Uniform_rotate_test_v2.npz\")"
   ]
  },
  {
   "cell_type": "code",
   "execution_count": 10,
   "id": "a1358c94",
   "metadata": {},
   "outputs": [
    {
     "name": "stdout",
     "output_type": "stream",
     "text": [
      "35556 35556 35556\n"
     ]
    }
   ],
   "source": [
    "test_ds3 = preprocess_data(combined_test, distortions=['Ring_Artifact_v1'], include_original=True, save_data=True, save_path=\"data/D21_preprocessed_Ring_Artifact_test_v2.npz\")"
   ]
  },
  {
   "cell_type": "code",
   "execution_count": 11,
   "id": "3f8ff123",
   "metadata": {},
   "outputs": [
    {
     "name": "stdout",
     "output_type": "stream",
     "text": [
      "35556 35556 35556\n"
     ]
    }
   ],
   "source": [
    "test_ds4 = preprocess_data(combined_test, distortions=['Uniform_Noise'], include_original=True, save_data=True, save_path=\"data/D21_preprocessed_Uniform_test_v2.npz\")"
   ]
  },
  {
   "cell_type": "code",
   "execution_count": 12,
   "id": "b107a24a",
   "metadata": {},
   "outputs": [
    {
     "name": "stdout",
     "output_type": "stream",
     "text": [
      "35556 35556 35556\n"
     ]
    }
   ],
   "source": [
    "test_ds5 = preprocess_data(combined_test, distortions=['Rotate_90deg'], include_original=True, save_data=True, save_path=\"data/D21_preprocessed_Rotate_test_v2.npz\")"
   ]
  }
 ],
 "metadata": {
  "kernelspec": {
   "display_name": "base",
   "language": "python",
   "name": "python3"
  },
  "language_info": {
   "codemirror_mode": {
    "name": "ipython",
    "version": 3
   },
   "file_extension": ".py",
   "mimetype": "text/x-python",
   "name": "python",
   "nbconvert_exporter": "python",
   "pygments_lexer": "ipython3",
   "version": "3.11.9"
  }
 },
 "nbformat": 4,
 "nbformat_minor": 5
}
