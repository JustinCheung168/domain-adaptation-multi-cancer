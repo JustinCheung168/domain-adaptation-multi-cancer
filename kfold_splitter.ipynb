{
 "cells": [
  {
   "cell_type": "code",
   "execution_count": null,
   "id": "9f5d0f6a",
   "metadata": {},
   "outputs": [
    {
     "name": "stdout",
     "output_type": "stream",
     "text": [
      "2.4.1+cu121\n"
     ]
    }
   ],
   "source": [
    "import torch\n"
   ]
  },
  {
   "cell_type": "code",
   "execution_count": null,
   "id": "70a17908",
   "metadata": {},
   "outputs": [],
   "source": [
    "import numpy as np\n",
    "import os\n",
    "\n",
    "file_path = os.path.join(\"dataset\", 'validation.npz')\n",
    "images=np.load(file=file_path)\n",
    "for key in images.files:\n",
    "    print(f\"Length of {key} is {len(images[key])}\")"
   ]
  },
  {
   "cell_type": "code",
   "execution_count": 3,
   "id": "72a8b24f",
   "metadata": {},
   "outputs": [
    {
     "name": "stdout",
     "output_type": "stream",
     "text": [
      "Class Distribution:\n",
      "3 : 392\n",
      "6 : 1033\n",
      "8 : 1009\n",
      "2 : 225\n",
      "9 : 529\n",
      "5 : 637\n",
      "10 : 511\n",
      "7 : 1033\n",
      "1 : 233\n",
      "4 : 568\n",
      "0 : 321\n"
     ]
    }
   ],
   "source": [
    "labels = images['label']\n",
    "# print(labels.shape)\n",
    "# print(labels)\n",
    "organ_count = {}\n",
    "for arr in labels:\n",
    "    label = arr[0]\n",
    "    organ_count[label] = organ_count.get(label,0)+1\n",
    "\n",
    "\n",
    "print(f\"Class Distribution:\")\n",
    "for key in organ_count:\n",
    "    print(f\"{key} : {organ_count[key]}\")\n",
    "    \n"
   ]
  },
  {
   "cell_type": "code",
   "execution_count": null,
   "id": "bc148ff1",
   "metadata": {},
   "outputs": [],
   "source": [
    "from torch.utils.data import Dataset\n",
    "from torchvision import transforms\n",
    "import torch\n",
    "\n",
    "class CustomImageDataset(Dataset):\n",
    "    def __init__(self, images, labels1, labels2, transform=None):\n",
    "        # Need to add shuffling\n",
    "        self.images = images  # Should be torch.Tensor of shape [N, 3, 224, 224]\n",
    "        self.labels1 = labels1\n",
    "        self.labels2 = labels2\n",
    "        if transform is None:\n",
    "            self.transform = transforms.Compose([\n",
    "                transforms.ToTensor(),\n",
    "                transforms.Lambda(lambda x: x.repeat(3, 1, 1))  # Grayscale to 3-channel\n",
    "            ])\n",
    "        else:\n",
    "            self.transform = transform\n",
    "\n",
    "    def __len__(self):\n",
    "        return len(self.images)\n",
    "\n",
    "    def __getitem__(self, idx):\n",
    "        img = self.images[idx]\n",
    "        label1 = int(self.labels1[idx])\n",
    "        label2 = int(self.labels2[idx])\n",
    "\n",
    "        if self.transform:\n",
    "            img = self.transform(img)\n",
    "\n",
    "        # return {\"pixel_values\": img, \"labels1\": label1, \"labels2\": label2}\n",
    "        return {\n",
    "            \"pixel_values\": img,\n",
    "            \"labels1\": int(label1) if torch.is_tensor(label1) else label1,\n",
    "            \"labels2\": int(label2) if torch.is_tensor(label2) else label2,\n",
    "                }\n",
    "\n",
    "\n",
    "\n",
    "def normalize_image(image, mean=0.5, std=0.5):\n",
    "    \"\"\"\n",
    "    Normalize an image tensor to have a mean and standard deviation.\n",
    "    \"\"\"\n",
    "    return (image - mean) / std\n",
    "\n",
    "def normalize_images(images, mean=0.5, std=0.5):\n",
    "    \"\"\"\n",
    "    Normalize a list of images.\n",
    "    \"\"\"\n",
    "    return [normalize_image(image, mean, std) for image in images]"
   ]
  },
  {
   "cell_type": "markdown",
   "id": "df188263",
   "metadata": {},
   "source": [
    "#### KFOLD SPLIT"
   ]
  },
  {
   "cell_type": "code",
   "execution_count": null,
   "id": "ea247c17",
   "metadata": {},
   "outputs": [],
   "source": [
    "from collections import defaultdict\n",
    "\n",
    "\n",
    "def get_label_indices(label_dataset):\n",
    "    \"\"\"Returns dict of indices per label\n",
    "\n",
    "    Args:\n",
    "        label_dataset (np array): the \"label\" array from the npz\n",
    "\n",
    "    Returns:\n",
    "        defaultdict: indices sorted by key\n",
    "    \"\"\"\n",
    "\n",
    "    organ_indices = defaultdict(list)\n",
    "    for idx, lab in enumerate(label_dataset):\n",
    "        organ_indices[int(lab)].append(idx)\n",
    "    return organ_indices\n",
    "\n",
    "\n",
    "keylist=['original', 'Uniform_Noise', 'Rotate_90deg', 'Ring_Artifact_v1', 'label']\n",
    "\n",
    "\n",
    "def kfold_split(data, first_key, second_key, num_folds=5, seed=43):\n",
    "    \"\"\"Data is full concatenated npz file.\n",
    "    \n",
    "        keys are strings like 'original'\n",
    "        \n",
    "        Return:\n",
    "        normalized images, list of labels, fold indices\n",
    "    \"\"\"\n",
    "    if first_key not in data or second_key not in data or 'label' not in data:\n",
    "        missing = [k for k in (first_key, second_key, 'label') if k not in data]\n",
    "        raise KeyError(f\"Missing keys in npz: {missing}\")\n",
    "\n",
    "\n",
    "    first_set  = data[first_key]\n",
    "    second_set = data[second_key]\n",
    "    \n",
    "    \n",
    "    first_normalized_images = np.array(normalize_images(first_set))\n",
    "    second_normalized_images = np.array(normalize_images(second_set))\n",
    "        \n",
    "    labels     = data['label'] \n",
    "\n",
    "    #domain labels. Set to 0 for original, 1 otherwise.\n",
    "    first_domain_labels  = np.zeros_like(labels) if first_key  == 'original' else np.ones_like(labels)\n",
    "    second_domain_labels = np.zeros_like(labels) if second_key == 'original' else np.ones_like(labels)\n",
    "    #build class buckets and shuffle in place\n",
    "    organ_indices = get_label_indices(labels)   # {label: [idx, ...]}\n",
    "    rng = np.random.default_rng(seed)\n",
    "    for _, idxs in organ_indices.items():\n",
    "        rng.shuffle(idxs)\n",
    "\n",
    "    folds=[list() for _ in range(num_folds)]\n",
    "    for label, idxs in organ_indices.items():\n",
    "        for id, idx in enumerate(idxs):\n",
    "            fold_id = id % num_folds\n",
    "            folds[fold_id].append(idx)\n",
    "\n",
    "    \n",
    "    \n",
    "    return first_normalized_images, second_normalized_images, folds, labels, first_domain_labels, second_domain_labels\n",
    "\n",
    "\n",
    "\"\"\"Use outputs from prev functiona and selct fold 0-4\"\"\"\n",
    "def retrieve_fold_data(fold_index, folds, labels, first_norm, second_norm, first_domain, second_domain):\n",
    "    val_idx = np.array(folds[fold_index])\n",
    "    all_idx = np.arange(len(labels))\n",
    "    train_idx = np.setdiff1d(all_idx, val_idx)\n",
    "\n",
    "    def build(indices):\n",
    "        images = np.concatenate([first_norm[indices], second_norm[indices]], axis=0)\n",
    "        organ_labels = np.concatenate([labels[indices], labels[indices]], axis=0)\n",
    "        domain_labels = np.concatenate([first_domain[indices], second_domain[indices]], axis=0)\n",
    "        return CustomImageDataset(images, organ_labels, domain_labels)\n",
    "\n",
    "    val_dataset = build(val_idx)\n",
    "    train_dataset = build(train_idx)\n",
    "    return val_dataset, train_dataset\n",
    "    "
   ]
  },
  {
   "cell_type": "code",
   "execution_count": 16,
   "id": "b8480f8b",
   "metadata": {},
   "outputs": [],
   "source": [
    "file_path = os.path.join(\"dataset\", 'validation.npz')\n",
    "images=np.load(file=file_path)\n",
    "\n",
    "# unpack from kfold_split\n",
    "first_norm, second_norm, folds, labels, first_domain, second_domain = kfold_split(images, \"original\", \"Uniform_Noise\")\n",
    "\n",
    "# now pass the exact same names\n",
    "val_dataset, train_dataset = retrieve_fold_data(\n",
    "    fold_index=0,               # pick which fold 0–4\n",
    "    folds=folds,\n",
    "    labels=labels,\n",
    "    first_norm=first_norm,\n",
    "    second_norm=second_norm,\n",
    "    first_domain=first_domain,\n",
    "    second_domain=second_domain\n",
    "    )\n",
    "\n",
    "\n",
    "\n",
    "#example usage:\n",
    "\n",
    "# for fold in range(0,5):\n",
    "    \n",
    "#     val_dataset, train_dataset = retrieve_fold_data(\n",
    "#     fold_index=fold,               # pick which fold 0–4\n",
    "#     folds=folds,\n",
    "#     labels=labels,\n",
    "#     first_norm=first_norm,\n",
    "#     second_norm=second_norm,\n",
    "#     first_domain=first_domain,\n",
    "#     second_domain=second_domain\n",
    "#     )\n",
    "    \n",
    "    #train model"
   ]
  },
  {
   "cell_type": "code",
   "execution_count": 17,
   "id": "48fbe83c",
   "metadata": {},
   "outputs": [
    {
     "name": "stderr",
     "output_type": "stream",
     "text": [
      "/var/folders/3y/dln6d1ms53z99wjpsctlgdcr0000gn/T/ipykernel_71940/929133712.py:24: DeprecationWarning: Conversion of an array with ndim > 0 to a scalar is deprecated, and will error in future. Ensure you extract a single element from your array before performing this operation. (Deprecated NumPy 1.25.)\n",
      "  label1 = int(self.labels1[idx])\n",
      "/var/folders/3y/dln6d1ms53z99wjpsctlgdcr0000gn/T/ipykernel_71940/929133712.py:25: DeprecationWarning: Conversion of an array with ndim > 0 to a scalar is deprecated, and will error in future. Ensure you extract a single element from your array before performing this operation. (Deprecated NumPy 1.25.)\n",
      "  label2 = int(self.labels2[idx])\n"
     ]
    },
    {
     "data": {
      "text/plain": [
       "{'pixel_values': tensor([[[-1.0000, -1.0000, -1.0000,  ..., -1.0000, -1.0000, -1.0000],\n",
       "          [-1.0000, -1.0000, -1.0000,  ..., -1.0000, -1.0000, -1.0000],\n",
       "          [-1.0000, -1.0000, -1.0000,  ..., -1.0000, -1.0000, -1.0000],\n",
       "          ...,\n",
       "          [-0.2157, -0.2157, -0.1686,  ..., -1.0000, -1.0000, -1.0000],\n",
       "          [-0.2863, -0.2863, -0.2471,  ..., -1.0000, -1.0000, -1.0000],\n",
       "          [-0.2863, -0.2863, -0.2471,  ..., -1.0000, -1.0000, -1.0000]],\n",
       " \n",
       "         [[-1.0000, -1.0000, -1.0000,  ..., -1.0000, -1.0000, -1.0000],\n",
       "          [-1.0000, -1.0000, -1.0000,  ..., -1.0000, -1.0000, -1.0000],\n",
       "          [-1.0000, -1.0000, -1.0000,  ..., -1.0000, -1.0000, -1.0000],\n",
       "          ...,\n",
       "          [-0.2157, -0.2157, -0.1686,  ..., -1.0000, -1.0000, -1.0000],\n",
       "          [-0.2863, -0.2863, -0.2471,  ..., -1.0000, -1.0000, -1.0000],\n",
       "          [-0.2863, -0.2863, -0.2471,  ..., -1.0000, -1.0000, -1.0000]],\n",
       " \n",
       "         [[-1.0000, -1.0000, -1.0000,  ..., -1.0000, -1.0000, -1.0000],\n",
       "          [-1.0000, -1.0000, -1.0000,  ..., -1.0000, -1.0000, -1.0000],\n",
       "          [-1.0000, -1.0000, -1.0000,  ..., -1.0000, -1.0000, -1.0000],\n",
       "          ...,\n",
       "          [-0.2157, -0.2157, -0.1686,  ..., -1.0000, -1.0000, -1.0000],\n",
       "          [-0.2863, -0.2863, -0.2471,  ..., -1.0000, -1.0000, -1.0000],\n",
       "          [-0.2863, -0.2863, -0.2471,  ..., -1.0000, -1.0000, -1.0000]]]),\n",
       " 'labels1': 3,\n",
       " 'labels2': 0}"
      ]
     },
     "execution_count": 17,
     "metadata": {},
     "output_type": "execute_result"
    }
   ],
   "source": [
    "val_dataset[5]"
   ]
  },
  {
   "cell_type": "markdown",
   "id": "b1900902",
   "metadata": {},
   "source": [
    "#### Creating kfold splitter for A and C models"
   ]
  },
  {
   "cell_type": "code",
   "execution_count": null,
   "id": "6eaf1718",
   "metadata": {},
   "outputs": [],
   "source": [
    "import numpy as np\n",
    "import os\n",
    "\n",
    "train_data_path = os.path.join(\"..\", \"dataset\", \"merged_train_data.npz\")\n",
    "val_data_path = os.path.join(\"..\", \"dataset\", \"merged_val_data.npz\")\n",
    "train_data = np.load(train_data_path)\n",
    "val_data =np.load(val_data_path)\n",
    "\n",
    "\n",
    "merged = {name: [train_data[name], val_data[name]] for name in train_data.files}\n",
    "\n",
    "merged = {name: np.concatenate(merged[name],axis=0) for name in train_data.files}\n",
    "\n",
    "\n",
    "np.savez('full_train_val_dataset.npz', **merged)\n",
    "\n"
   ]
  },
  {
   "cell_type": "code",
   "execution_count": null,
   "id": "2893d5cd",
   "metadata": {},
   "outputs": [],
   "source": [
    "#merging npz file\n",
    "import glob\n",
    "files = glob.glob(\"../datafull/val*\")\n",
    "names = ['original', 'label', 'Uniform_Noise', 'Rotate_90deg']\n",
    "merged = {name:[] for name in names}\n",
    "for data in sorted(files):\n",
    "    # print(data)\n",
    "    info = np.load(data)\n",
    "    # print(info.files)\n",
    "    for name in names:\n",
    "        merged[name].append(info[name])\n",
    "\n",
    "merged = {name: np.concatenate(merged[name], axis=0) for name in names}\n",
    "np.savez('full_val.npz', **merged)"
   ]
  },
  {
   "cell_type": "code",
   "execution_count": 3,
   "id": "263b4f3a",
   "metadata": {},
   "outputs": [
    {
     "name": "stdout",
     "output_type": "stream",
     "text": [
      "(41052, 224, 224)\n",
      "(41052, 1)\n",
      "(41052, 224, 224)\n",
      "(41052, 224, 224)\n",
      "(41052, 224, 224)\n"
     ]
    }
   ],
   "source": [
    "train_data_path = os.path.join(\"..\", \"dataset\", \"full_train_val_dataset.npz\")\n",
    "\n",
    "data = np.load(train_data_path)\n",
    "\n",
    "for name in data.files:\n",
    "    print(data[name].shape)"
   ]
  },
  {
   "cell_type": "code",
   "execution_count": null,
   "id": "1d39db11",
   "metadata": {},
   "outputs": [],
   "source": []
  }
 ],
 "metadata": {
  "kernelspec": {
   "display_name": "base",
   "language": "python",
   "name": "python3"
  },
  "language_info": {
   "codemirror_mode": {
    "name": "ipython",
    "version": 3
   },
   "file_extension": ".py",
   "mimetype": "text/x-python",
   "name": "python",
   "nbconvert_exporter": "python",
   "pygments_lexer": "ipython3",
   "version": "3.8.8"
  }
 },
 "nbformat": 4,
 "nbformat_minor": 5
}
